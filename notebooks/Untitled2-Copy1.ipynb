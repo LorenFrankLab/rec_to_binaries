{
 "cells": [
  {
   "cell_type": "code",
   "execution_count": 13,
   "metadata": {},
   "outputs": [],
   "source": [
    "%reload_ext autoreload\n",
    "%autoreload 2"
   ]
  },
  {
   "cell_type": "code",
   "execution_count": 14,
   "metadata": {},
   "outputs": [
    {
     "name": "stdout",
     "output_type": "stream",
     "text": [
      "/home/edeno/bin:/home/edeno/.local/bin:/home/edeno/bin:/home/edeno/.local/bin:/home/edeno/miniconda3/envs/rec_to_binaries/bin:/home/edeno/miniconda3/condabin:/usr/local/sbin:/usr/local/bin:/usr/sbin:/usr/bin:/sbin:/bin:/usr/games:/usr/local/games:/snap/bin:/home/edeno/SpikeGadgets:/home/edeno/SpikeGadgets\n"
     ]
    }
   ],
   "source": [
    "import logging\n",
    "import os\n",
    "\n",
    "from rec_to_binaries import extract_trodes_rec_file\n",
    "\n",
    "SPIKE_GADGETS_PATH = os.path.join(os.path.expanduser('~'), 'SpikeGadgets')\n",
    "\n",
    "os.environ['PATH'] += os.pathsep + SPIKE_GADGETS_PATH\n",
    "\n",
    "print(os.environ['PATH'])"
   ]
  },
  {
   "cell_type": "code",
   "execution_count": 15,
   "metadata": {},
   "outputs": [
    {
     "name": "stderr",
     "output_type": "stream",
     "text": [
      "02-Oct-20 09:45:28 Extracting analog data...\n"
     ]
    },
    {
     "name": "stdout",
     "output_type": "stream",
     "text": [
      "(ID: 0) Running exportanalog on animal KF2 date 20170120 epoch 01\n",
      "(ID: 0) Full command: ['exportanalog', '-rec', '/data2/edeno/kf2/raw/20170120/20170120_KF2_01_s1.rec', '-outputdirectory', '/data2/edeno/kf2/preprocessing/20170120', '-output', '20170120_KF2_01_s1']\n"
     ]
    },
    {
     "name": "stderr",
     "output_type": "stream",
     "text": [
      "/home/edeno/Documents/Github/rec_to_binaries/rec_to_binaries/trodes_data.py:1376: TrodesDataFormatWarning: Running export command (['exportanalog', '-rec', '/data2/edeno/kf2/raw/20170120/20170120_KF2_01_s1.rec', '-outputdirectory', '/data2/edeno/kf2/preprocessing/20170120', '-output', '20170120_KF2_01_s1']) failed with return code 255\n",
      "  format(extract_proc.args, extract_proc.poll()), TrodesDataFormatWarning)\n",
      "02-Oct-20 09:45:29 Extracting DIO...\n"
     ]
    },
    {
     "name": "stdout",
     "output_type": "stream",
     "text": [
      "(ID: 0) Done running ['exportanalog', '-rec', '/data2/edeno/kf2/raw/20170120/20170120_KF2_01_s1.rec', '-outputdirectory', '/data2/edeno/kf2/preprocessing/20170120', '-output', '20170120_KF2_01_s1']\n",
      "(ID: 0) Error - allowed range for number of stream display columns per page is 1 through 4\n",
      "(ID: 0) Error reading recording configuration. Aborting.\n",
      "(ID: 0) Running exportdio on animal KF2 date 20170120 epoch 01\n",
      "(ID: 0) Full command: ['exportdio', '-rec', '/data2/edeno/kf2/raw/20170120/20170120_KF2_01_s1.rec', '-outputdirectory', '/data2/edeno/kf2/preprocessing/20170120', '-output', '20170120_KF2_01_s1']\n"
     ]
    },
    {
     "name": "stderr",
     "output_type": "stream",
     "text": [
      "/home/edeno/Documents/Github/rec_to_binaries/rec_to_binaries/trodes_data.py:1376: TrodesDataFormatWarning: Running export command (['exportdio', '-rec', '/data2/edeno/kf2/raw/20170120/20170120_KF2_01_s1.rec', '-outputdirectory', '/data2/edeno/kf2/preprocessing/20170120', '-output', '20170120_KF2_01_s1']) failed with return code 255\n",
      "  format(extract_proc.args, extract_proc.poll()), TrodesDataFormatWarning)\n",
      "02-Oct-20 09:45:30 Extracting LFP...\n"
     ]
    },
    {
     "name": "stdout",
     "output_type": "stream",
     "text": [
      "(ID: 0) Done running ['exportdio', '-rec', '/data2/edeno/kf2/raw/20170120/20170120_KF2_01_s1.rec', '-outputdirectory', '/data2/edeno/kf2/preprocessing/20170120', '-output', '20170120_KF2_01_s1']\n",
      "(ID: 0) Error - allowed range for number of stream display columns per page is 1 through 4\n",
      "(ID: 0) Error reading recording configuration. Aborting.\n",
      "(ID: 0) Running exportLFP on animal KF2 date 20170120 epoch 01\n",
      "(ID: 0) Full command: ['exportLFP', '-rec', '/data2/edeno/kf2/raw/20170120/20170120_KF2_01_s1.rec', '-outputdirectory', '/data2/edeno/kf2/preprocessing/20170120', '-output', '20170120_KF2_01_s1', '-highpass', '0', '-lowpass', '400', '-interp', '0', '-userefs', '0', '-outputrate', '1500']\n"
     ]
    },
    {
     "name": "stderr",
     "output_type": "stream",
     "text": [
      "/home/edeno/Documents/Github/rec_to_binaries/rec_to_binaries/trodes_data.py:1376: TrodesDataFormatWarning: Running export command (['exportLFP', '-rec', '/data2/edeno/kf2/raw/20170120/20170120_KF2_01_s1.rec', '-outputdirectory', '/data2/edeno/kf2/preprocessing/20170120', '-output', '20170120_KF2_01_s1', '-highpass', '0', '-lowpass', '400', '-interp', '0', '-userefs', '0', '-outputrate', '1500']) failed with return code 255\n",
      "  format(extract_proc.args, extract_proc.poll()), TrodesDataFormatWarning)\n",
      "02-Oct-20 09:45:31 Extracting mda...\n"
     ]
    },
    {
     "name": "stdout",
     "output_type": "stream",
     "text": [
      "(ID: 0) Done running ['exportLFP', '-rec', '/data2/edeno/kf2/raw/20170120/20170120_KF2_01_s1.rec', '-outputdirectory', '/data2/edeno/kf2/preprocessing/20170120', '-output', '20170120_KF2_01_s1', '-highpass', '0', '-lowpass', '400', '-interp', '0', '-userefs', '0', '-outputrate', '1500']\n",
      "(ID: 0) Error - allowed range for number of stream display columns per page is 1 through 4\n",
      "(ID: 0) Error reading recording configuration. Aborting.\n",
      "(ID: 0) Running exportmda on animal KF2 date 20170120 epoch 01\n",
      "(ID: 0) Full command: ['exportmda', '-rec', '/data2/edeno/kf2/raw/20170120/20170120_KF2_01_s1.rec', '-outputdirectory', '/data2/edeno/kf2/preprocessing/20170120', '-output', '20170120_KF2_01_s1', '-usespikefilters', '0', '-interp', '1', '-userefs', '0']\n"
     ]
    },
    {
     "name": "stderr",
     "output_type": "stream",
     "text": [
      "/home/edeno/Documents/Github/rec_to_binaries/rec_to_binaries/trodes_data.py:1376: TrodesDataFormatWarning: Running export command (['exportmda', '-rec', '/data2/edeno/kf2/raw/20170120/20170120_KF2_01_s1.rec', '-outputdirectory', '/data2/edeno/kf2/preprocessing/20170120', '-output', '20170120_KF2_01_s1', '-usespikefilters', '0', '-interp', '1', '-userefs', '0']) failed with return code 255\n",
      "  format(extract_proc.args, extract_proc.poll()), TrodesDataFormatWarning)\n",
      "02-Oct-20 09:45:32 Extracting spikes...\n"
     ]
    },
    {
     "name": "stdout",
     "output_type": "stream",
     "text": [
      "(ID: 0) Done running ['exportmda', '-rec', '/data2/edeno/kf2/raw/20170120/20170120_KF2_01_s1.rec', '-outputdirectory', '/data2/edeno/kf2/preprocessing/20170120', '-output', '20170120_KF2_01_s1', '-usespikefilters', '0', '-interp', '1', '-userefs', '0']\n",
      "(ID: 0) For backwards compatibility, uselfpfilters and usespikefilters flags both set to 0.\n",
      "(ID: 0) Error - allowed range for number of stream display columns per page is 1 through 4\n",
      "(ID: 0) Error reading recording configuration. Aborting.\n",
      "(ID: 0) Running exportspikes on animal KF2 date 20170120 epoch 01\n",
      "(ID: 0) Full command: ['exportspikes', '-rec', '/data2/edeno/kf2/raw/20170120/20170120_KF2_01_s1.rec', '-outputdirectory', '/data2/edeno/kf2/preprocessing/20170120', '-output', '20170120_KF2_01_s1']\n"
     ]
    },
    {
     "name": "stderr",
     "output_type": "stream",
     "text": [
      "/home/edeno/Documents/Github/rec_to_binaries/rec_to_binaries/trodes_data.py:1376: TrodesDataFormatWarning: Running export command (['exportspikes', '-rec', '/data2/edeno/kf2/raw/20170120/20170120_KF2_01_s1.rec', '-outputdirectory', '/data2/edeno/kf2/preprocessing/20170120', '-output', '20170120_KF2_01_s1']) failed with return code 255\n",
      "  format(extract_proc.args, extract_proc.poll()), TrodesDataFormatWarning)\n",
      "02-Oct-20 09:45:33 Extracting time...\n"
     ]
    },
    {
     "name": "stdout",
     "output_type": "stream",
     "text": [
      "(ID: 0) Done running ['exportspikes', '-rec', '/data2/edeno/kf2/raw/20170120/20170120_KF2_01_s1.rec', '-outputdirectory', '/data2/edeno/kf2/preprocessing/20170120', '-output', '20170120_KF2_01_s1']\n",
      "(ID: 0) Error - allowed range for number of stream display columns per page is 1 through 4\n",
      "(ID: 0) Error reading recording configuration. Aborting.\n",
      "(ID: 0) Running exporttime on animal KF2 date 20170120 epoch 01\n",
      "(ID: 0) Full command: ['exporttime', '-rec', '/data2/edeno/kf2/raw/20170120/20170120_KF2_01_s1.rec', '-outputdirectory', '/data2/edeno/kf2/preprocessing/20170120', '-output', '20170120_KF2_01_s1']\n"
     ]
    },
    {
     "name": "stderr",
     "output_type": "stream",
     "text": [
      "/home/edeno/Documents/Github/rec_to_binaries/rec_to_binaries/trodes_data.py:1376: TrodesDataFormatWarning: Running export command (['exporttime', '-rec', '/data2/edeno/kf2/raw/20170120/20170120_KF2_01_s1.rec', '-outputdirectory', '/data2/edeno/kf2/preprocessing/20170120', '-output', '20170120_KF2_01_s1']) failed with return code 255\n",
      "  format(extract_proc.args, extract_proc.poll()), TrodesDataFormatWarning)\n",
      "02-Oct-20 09:45:34 Making position directory...\n"
     ]
    },
    {
     "name": "stdout",
     "output_type": "stream",
     "text": [
      "(ID: 0) Done running ['exporttime', '-rec', '/data2/edeno/kf2/raw/20170120/20170120_KF2_01_s1.rec', '-outputdirectory', '/data2/edeno/kf2/preprocessing/20170120', '-output', '20170120_KF2_01_s1']\n",
      "(ID: 0) Error - allowed range for number of stream display columns per page is 1 through 4\n",
      "(ID: 0) Error reading recording configuration. Aborting.\n"
     ]
    },
    {
     "name": "stderr",
     "output_type": "stream",
     "text": [
      "/home/edeno/Documents/Github/rec_to_binaries/rec_to_binaries/trodes_data.py:1229: TrodesDataFormatWarning: TrodesDataFormatError('h264: Date 20170120 and epoch 1 does not exist for animal kf2.') (thrown from /home/edeno/Documents/Github/rec_to_binaries/rec_to_binaries/trodes_data.py:1129)\n",
      "  TrodesDataFormatWarning)\n"
     ]
    }
   ],
   "source": [
    "logging.basicConfig(level='INFO', format='%(asctime)s %(message)s',\n",
    "                    datefmt='%d-%b-%y %H:%M:%S')\n",
    "\n",
    "# data_dir = \"/data2/data1_backup/jason/\"\n",
    "# /data2/edeno/kf2\n",
    "data_dir = '/data2/edeno/'\n",
    "animal = 'kf2'\n",
    "\n",
    "extract_trodes_rec_file(\n",
    "    data_dir,\n",
    "    animal,\n",
    "    parallel_instances=4,\n",
    "    overwrite=True)"
   ]
  },
  {
   "cell_type": "code",
   "execution_count": 6,
   "metadata": {},
   "outputs": [
    {
     "name": "stdout",
     "output_type": "stream",
     "text": [
      "File could not be found:  \"/data2/data1_backup/jason/kf2/raw/20170120/20170216_kibbles_reconfig2.xml\"\n",
      "\"File /data2/data1_backup/jason/kf2/raw/20170120/20170216_kibbles_reconfig2.xml not found\"\n",
      "Error in the argument list. Use -h flag to print usage.\n"
     ]
    }
   ],
   "source": [
    "exporttime -rec /data2/data1_backup/jason/kf2/raw/20170120/20170120_KF2_01_s1.rec -outputdirectory /home/edeno/Documents/Github/rec_to_binaries/test_data -output 20170120_KF2_01_s1 -reconfig /data2/data1_backup/jason/kf2/raw/20170120/20170216_kibbles_reconfig2.xml"
   ]
  },
  {
   "cell_type": "code",
   "execution_count": 11,
   "metadata": {},
   "outputs": [
    {
     "data": {
      "text/plain": [
       "\u001b[0;31mSignature:\u001b[0m\n",
       "\u001b[0mextract_trodes_rec_file\u001b[0m\u001b[0;34m(\u001b[0m\u001b[0;34m\u001b[0m\n",
       "\u001b[0;34m\u001b[0m    \u001b[0mdata_dir\u001b[0m\u001b[0;34m,\u001b[0m\u001b[0;34m\u001b[0m\n",
       "\u001b[0;34m\u001b[0m    \u001b[0manimal\u001b[0m\u001b[0;34m,\u001b[0m\u001b[0;34m\u001b[0m\n",
       "\u001b[0;34m\u001b[0m    \u001b[0mlfp_export_args\u001b[0m\u001b[0;34m=\u001b[0m\u001b[0;34m(\u001b[0m\u001b[0;34m'-highpass'\u001b[0m\u001b[0;34m,\u001b[0m \u001b[0;34m'0'\u001b[0m\u001b[0;34m,\u001b[0m \u001b[0;34m'-lowpass'\u001b[0m\u001b[0;34m,\u001b[0m \u001b[0;34m'400'\u001b[0m\u001b[0;34m,\u001b[0m \u001b[0;34m'-interp'\u001b[0m\u001b[0;34m,\u001b[0m \u001b[0;34m'0'\u001b[0m\u001b[0;34m,\u001b[0m \u001b[0;34m'-userefs'\u001b[0m\u001b[0;34m,\u001b[0m \u001b[0;34m'0'\u001b[0m\u001b[0;34m,\u001b[0m \u001b[0;34m'-outputrate'\u001b[0m\u001b[0;34m,\u001b[0m \u001b[0;34m'1500'\u001b[0m\u001b[0;34m)\u001b[0m\u001b[0;34m,\u001b[0m\u001b[0;34m\u001b[0m\n",
       "\u001b[0;34m\u001b[0m    \u001b[0mmda_export_args\u001b[0m\u001b[0;34m=\u001b[0m\u001b[0;34m(\u001b[0m\u001b[0;34m'-usespikefilters'\u001b[0m\u001b[0;34m,\u001b[0m \u001b[0;34m'0'\u001b[0m\u001b[0;34m,\u001b[0m \u001b[0;34m'-interp'\u001b[0m\u001b[0;34m,\u001b[0m \u001b[0;34m'1'\u001b[0m\u001b[0;34m,\u001b[0m \u001b[0;34m'-userefs'\u001b[0m\u001b[0;34m,\u001b[0m \u001b[0;34m'0'\u001b[0m\u001b[0;34m)\u001b[0m\u001b[0;34m,\u001b[0m\u001b[0;34m\u001b[0m\n",
       "\u001b[0;34m\u001b[0m    \u001b[0manalog_export_args\u001b[0m\u001b[0;34m=\u001b[0m\u001b[0;34m(\u001b[0m\u001b[0;34m)\u001b[0m\u001b[0;34m,\u001b[0m\u001b[0;34m\u001b[0m\n",
       "\u001b[0;34m\u001b[0m    \u001b[0mdio_export_args\u001b[0m\u001b[0;34m=\u001b[0m\u001b[0;34m(\u001b[0m\u001b[0;34m)\u001b[0m\u001b[0;34m,\u001b[0m\u001b[0;34m\u001b[0m\n",
       "\u001b[0;34m\u001b[0m    \u001b[0mspikes_export_args\u001b[0m\u001b[0;34m=\u001b[0m\u001b[0;34m(\u001b[0m\u001b[0;34m)\u001b[0m\u001b[0;34m,\u001b[0m\u001b[0;34m\u001b[0m\n",
       "\u001b[0;34m\u001b[0m    \u001b[0mtime_export_args\u001b[0m\u001b[0;34m=\u001b[0m\u001b[0;34m(\u001b[0m\u001b[0;34m)\u001b[0m\u001b[0;34m,\u001b[0m\u001b[0;34m\u001b[0m\n",
       "\u001b[0;34m\u001b[0m    \u001b[0mmake_HDF5\u001b[0m\u001b[0;34m=\u001b[0m\u001b[0;32mFalse\u001b[0m\u001b[0;34m,\u001b[0m\u001b[0;34m\u001b[0m\n",
       "\u001b[0;34m\u001b[0m    \u001b[0mextract_analog\u001b[0m\u001b[0;34m=\u001b[0m\u001b[0;32mTrue\u001b[0m\u001b[0;34m,\u001b[0m\u001b[0;34m\u001b[0m\n",
       "\u001b[0;34m\u001b[0m    \u001b[0mextract_spikes\u001b[0m\u001b[0;34m=\u001b[0m\u001b[0;32mTrue\u001b[0m\u001b[0;34m,\u001b[0m\u001b[0;34m\u001b[0m\n",
       "\u001b[0;34m\u001b[0m    \u001b[0mextract_lfps\u001b[0m\u001b[0;34m=\u001b[0m\u001b[0;32mTrue\u001b[0m\u001b[0;34m,\u001b[0m\u001b[0;34m\u001b[0m\n",
       "\u001b[0;34m\u001b[0m    \u001b[0mextract_dio\u001b[0m\u001b[0;34m=\u001b[0m\u001b[0;32mTrue\u001b[0m\u001b[0;34m,\u001b[0m\u001b[0;34m\u001b[0m\n",
       "\u001b[0;34m\u001b[0m    \u001b[0mextract_time\u001b[0m\u001b[0;34m=\u001b[0m\u001b[0;32mTrue\u001b[0m\u001b[0;34m,\u001b[0m\u001b[0;34m\u001b[0m\n",
       "\u001b[0;34m\u001b[0m    \u001b[0mextract_mda\u001b[0m\u001b[0;34m=\u001b[0m\u001b[0;32mTrue\u001b[0m\u001b[0;34m,\u001b[0m\u001b[0;34m\u001b[0m\n",
       "\u001b[0;34m\u001b[0m    \u001b[0madjust_timestamps_for_mcu_lag\u001b[0m\u001b[0;34m=\u001b[0m\u001b[0;32mTrue\u001b[0m\u001b[0;34m,\u001b[0m\u001b[0;34m\u001b[0m\n",
       "\u001b[0;34m\u001b[0m    \u001b[0mmake_mountain_dir\u001b[0m\u001b[0;34m=\u001b[0m\u001b[0;32mFalse\u001b[0m\u001b[0;34m,\u001b[0m\u001b[0;34m\u001b[0m\n",
       "\u001b[0;34m\u001b[0m    \u001b[0mmake_pos_dir\u001b[0m\u001b[0;34m=\u001b[0m\u001b[0;32mTrue\u001b[0m\u001b[0;34m,\u001b[0m\u001b[0;34m\u001b[0m\n",
       "\u001b[0;34m\u001b[0m    \u001b[0moverwrite\u001b[0m\u001b[0;34m=\u001b[0m\u001b[0;32mFalse\u001b[0m\u001b[0;34m,\u001b[0m\u001b[0;34m\u001b[0m\n",
       "\u001b[0;34m\u001b[0m    \u001b[0mstop_error\u001b[0m\u001b[0;34m=\u001b[0m\u001b[0;32mFalse\u001b[0m\u001b[0;34m,\u001b[0m\u001b[0;34m\u001b[0m\n",
       "\u001b[0;34m\u001b[0m    \u001b[0muse_folder_date\u001b[0m\u001b[0;34m=\u001b[0m\u001b[0;32mFalse\u001b[0m\u001b[0;34m,\u001b[0m\u001b[0;34m\u001b[0m\n",
       "\u001b[0;34m\u001b[0m    \u001b[0mparallel_instances\u001b[0m\u001b[0;34m=\u001b[0m\u001b[0;36m1\u001b[0m\u001b[0;34m,\u001b[0m\u001b[0;34m\u001b[0m\n",
       "\u001b[0;34m\u001b[0m    \u001b[0muse_day_config\u001b[0m\u001b[0;34m=\u001b[0m\u001b[0;32mTrue\u001b[0m\u001b[0;34m,\u001b[0m\u001b[0;34m\u001b[0m\n",
       "\u001b[0;34m\u001b[0m\u001b[0;34m)\u001b[0m\u001b[0;34m\u001b[0m\u001b[0;34m\u001b[0m\u001b[0m\n",
       "\u001b[0;31mDocstring:\u001b[0m\n",
       "Extracting Trodes rec files.\n",
       "\n",
       "Following the Frank Lab directory structure for raw ephys data, will\n",
       "automate extraction of Trode's rec files into its exploded datatype\n",
       "components, and then will convert the files to an hdf5 storage\n",
       "to be used for further preprocessing and analysis.\n",
       "\n",
       "To find any of the extract args (e.g. lfp_export_args) use the shell help\n",
       "i.e. `exportLFP -h` or refer to the trodes code repository documentation.\n",
       "\n",
       "Parameters\n",
       "----------\n",
       "data_dir : str\n",
       "animal : str\n",
       "    Name of animal\n",
       "lfp_export_args : tuple, optional\n",
       "    Parameters for SpikeGadgets `exportLFP` function\n",
       "mda_export_args : tuple, optional\n",
       "    Parameters for SpikeGadgets `exportmda` function\n",
       "analog_export_args : tuple, optional\n",
       "    Parameters for SpikeGadgets `exportanalog` function\n",
       "dio_export_args : tuple, optional\n",
       "    Parameters for SpikeGadgets `exportdio` function\n",
       "spikes_export_args : tuple, optional\n",
       "    Parameters for SpikeGadgets `exportspikes` function\n",
       "time_export_args : tuple, optional\n",
       "    Parameters for SpikeGadgets `exporttime` function\n",
       "parallel_instances : int, optional\n",
       "    Number of parallel jobs to run.\n",
       "make_HDF5 : bool, optional\n",
       "    If true, will make HDF5 files in addition to binaries.\n",
       "extract_analog : bool, optional\n",
       "    If true, extracts the analog data (accelerometer, gyroscope,\n",
       "    magnetometor).\n",
       "extract_spikes : bool, optional\n",
       "extract_lfps : bool, optional\n",
       "extract_dio : bool, optional\n",
       "extract_time : bool, optional\n",
       "extract_mda : bool, optional\n",
       "adjust_timestamps_for_mcu_lag : bool, optional\n",
       "    If True, fixes the correspondence between trodestime\n",
       "    and system (wall) time due to MCU lag\n",
       "make_mountain_dir : bool, optional\n",
       "make_pos_dir : bool, optional\n",
       "overwrite : bool, optional\n",
       "    If true, will overwrite existing files.\n",
       "stop_error : bool, optional\n",
       "    If true, the function will stop on errors. If false it will only\n",
       "    give warnings if something fails.\n",
       "use_folder_date : bool, optional\n",
       "use_day_config : bool, optional\n",
       "    Use external configuration file in date folder\n",
       "    (i.e. `<date>.trodesconf`)\n",
       "\u001b[0;31mFile:\u001b[0m      ~/Documents/Github/rec_to_binaries/rec_to_binaries/core.py\n",
       "\u001b[0;31mType:\u001b[0m      function\n"
      ]
     },
     "metadata": {},
     "output_type": "display_data"
    }
   ],
   "source": [
    "extract_trodes_rec_file?"
   ]
  },
  {
   "cell_type": "code",
   "execution_count": null,
   "metadata": {},
   "outputs": [],
   "source": []
  }
 ],
 "metadata": {
  "kernelspec": {
   "display_name": "Python [conda env:rec_to_binaries] *",
   "language": "python",
   "name": "conda-env-rec_to_binaries-py"
  },
  "language_info": {
   "codemirror_mode": {
    "name": "ipython",
    "version": 3
   },
   "file_extension": ".py",
   "mimetype": "text/x-python",
   "name": "python",
   "nbconvert_exporter": "python",
   "pygments_lexer": "ipython3",
   "version": "3.7.8"
  }
 },
 "nbformat": 4,
 "nbformat_minor": 4
}
