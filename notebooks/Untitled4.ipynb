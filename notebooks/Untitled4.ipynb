{
 "cells": [
  {
   "cell_type": "code",
   "execution_count": 1,
   "metadata": {},
   "outputs": [],
   "source": [
    "%matplotlib inline\n",
    "%reload_ext autoreload\n",
    "%autoreload 2"
   ]
  },
  {
   "cell_type": "code",
   "execution_count": 2,
   "metadata": {},
   "outputs": [],
   "source": [
    "from rec_to_binaries.read_binaries import readTrodesExtractedDataFile\n",
    "\n",
    "import pandas as pd\n",
    "import matplotlib.pyplot as plt\n",
    "import numpy as np"
   ]
  },
  {
   "cell_type": "code",
   "execution_count": 6,
   "metadata": {},
   "outputs": [
    {
     "name": "stdout",
     "output_type": "stream",
     "text": [
      "20190826_Jaq_01_sleep.1.h264\n",
      "20190826_Jaq_01_sleep.1.trackgeometry\n",
      "20190826_Jaq_01_sleep.1.videoPositionTracking\n",
      "20190826_Jaq_01_sleep.1.videoTimeStamps\n",
      "20190826_Jaq_01_sleep.1.videoTimeStamps.cameraHWSync\n",
      "20190826_Jaq_01_sleep.rec\n",
      "20190826_Jaq_01_sleep.rec_header.xml\n",
      "20190826_Jaq_02_lineartrack.1.h264\n",
      "20190826_Jaq_02_lineartrack.1.trackgeometry\n",
      "20190826_Jaq_02_lineartrack.1.videoPositionTracking\n",
      "20190826_Jaq_02_lineartrack.1.videoTimeStamps\n",
      "20190826_Jaq_02_lineartrack.1.videoTimeStamps.cameraHWSync\n",
      "20190826_Jaq_02_lineartrack.rec\n",
      "20190826_Jaq_02_lineartrack.rec_header.xml\n",
      "20190826_Jaq_02_lineartrack.stateScriptLog\n",
      "20190826_Jaq_03_sleep.1.h264\n",
      "20190826_Jaq_03_sleep.1.trackgeometry\n",
      "20190826_Jaq_03_sleep.1.videoPositionTracking\n",
      "20190826_Jaq_03_sleep.1.videoTimeStamps\n",
      "20190826_Jaq_03_sleep.1.videoTimeStamps.cameraHWSync\n",
      "20190826_Jaq_03_sleep.rec\n",
      "20190826_Jaq_03_sleep.rec_header.xml\n",
      "20190826_Jaq_03_sleep.stateScriptLog\n",
      "20190826_Jaq_04_lineartrack.1.h264\n",
      "20190826_Jaq_04_lineartrack.1.trackgeometry\n",
      "20190826_Jaq_04_lineartrack.1.videoPositionTracking\n",
      "20190826_Jaq_04_lineartrack.1.videoTimeStamps\n",
      "20190826_Jaq_04_lineartrack.1.videoTimeStamps.cameraHWSync\n",
      "20190826_Jaq_04_lineartrack.rec\n",
      "20190826_Jaq_04_lineartrack.rec_header.xml\n",
      "20190826_Jaq_04_lineartrack.stateScriptLog\n",
      "20190826_Jaq_05_sleep.1.h264\n",
      "20190826_Jaq_05_sleep.1.trackgeometry\n",
      "20190826_Jaq_05_sleep.1.videoPositionTracking\n",
      "20190826_Jaq_05_sleep.1.videoTimeStamps\n",
      "20190826_Jaq_05_sleep.1.videoTimeStamps.cameraHWSync\n",
      "20190826_Jaq_05_sleep.rec\n",
      "20190826_Jaq_05_sleep.rec_header.xml\n",
      "20190826_Jaq_05_sleep.stateScriptLog\n",
      "20190826_Jaq_06_lineartrack.1.h264\n",
      "20190826_Jaq_06_lineartrack.1.trackgeometry\n",
      "20190826_Jaq_06_lineartrack.1.videoPositionTracking\n",
      "20190826_Jaq_06_lineartrack.1.videoTimeStamps\n",
      "20190826_Jaq_06_lineartrack.1.videoTimeStamps.cameraHWSync\n",
      "20190826_Jaq_06_lineartrack.rec\n",
      "20190826_Jaq_06_lineartrack.rec_header.xml\n",
      "20190826_Jaq_06_lineartrack.stateScriptLog\n",
      "20190826_Jaq_07_sleep.1.h264\n",
      "20190826_Jaq_07_sleep.1.trackgeometry\n",
      "20190826_Jaq_07_sleep.1.videoPositionTracking\n",
      "20190826_Jaq_07_sleep.1.videoTimeStamps\n",
      "20190826_Jaq_07_sleep.1.videoTimeStamps.cameraHWSync\n",
      "20190826_Jaq_07_sleep.rec\n",
      "20190826_Jaq_07_sleep.rec_header.xml\n",
      "20190826_Jaq_07_sleep.stateScriptLog\n",
      "20190826.trodesconf\n"
     ]
    }
   ],
   "source": [
    "!ls /stelmo/loren/Jaq/raw/20190826/"
   ]
  },
  {
   "cell_type": "code",
   "execution_count": 9,
   "metadata": {},
   "outputs": [
    {
     "name": "stdout",
     "output_type": "stream",
     "text": [
      "20190826_Jaq_04_lineartrack.continuoustime.dat\n",
      "20190826_Jaq_04_lineartrack.exporttime.log\n",
      "20190826_Jaq_04_lineartrack.time.dat\n"
     ]
    }
   ],
   "source": [
    "!ls /stelmo/loren/Jaq/preprocessing/20190826/20190826_Jaq_04_lineartrack.time"
   ]
  },
  {
   "cell_type": "code",
   "execution_count": 86,
   "metadata": {},
   "outputs": [
    {
     "data": {
      "text/html": [
       "<div>\n",
       "<style scoped>\n",
       "    .dataframe tbody tr th:only-of-type {\n",
       "        vertical-align: middle;\n",
       "    }\n",
       "\n",
       "    .dataframe tbody tr th {\n",
       "        vertical-align: top;\n",
       "    }\n",
       "\n",
       "    .dataframe thead th {\n",
       "        text-align: right;\n",
       "    }\n",
       "</style>\n",
       "<table border=\"1\" class=\"dataframe\">\n",
       "  <thead>\n",
       "    <tr style=\"text-align: right;\">\n",
       "      <th></th>\n",
       "      <th>trodestime</th>\n",
       "      <th>systime</th>\n",
       "      <th>time_chunk_label</th>\n",
       "      <th>adjusted_systime</th>\n",
       "    </tr>\n",
       "  </thead>\n",
       "  <tbody>\n",
       "    <tr>\n",
       "      <th>0</th>\n",
       "      <td>144526916</td>\n",
       "      <td>1566868236717032814</td>\n",
       "      <td>0</td>\n",
       "      <td>1566868236717035264</td>\n",
       "    </tr>\n",
       "    <tr>\n",
       "      <th>1</th>\n",
       "      <td>144526917</td>\n",
       "      <td>1566868236717048321</td>\n",
       "      <td>0</td>\n",
       "      <td>1566868236717068800</td>\n",
       "    </tr>\n",
       "    <tr>\n",
       "      <th>2</th>\n",
       "      <td>144526918</td>\n",
       "      <td>1566868236717056628</td>\n",
       "      <td>0</td>\n",
       "      <td>1566868236717102080</td>\n",
       "    </tr>\n",
       "    <tr>\n",
       "      <th>3</th>\n",
       "      <td>144526919</td>\n",
       "      <td>1566868236717132839</td>\n",
       "      <td>0</td>\n",
       "      <td>1566868236717135360</td>\n",
       "    </tr>\n",
       "    <tr>\n",
       "      <th>4</th>\n",
       "      <td>144526920</td>\n",
       "      <td>1566868236717148186</td>\n",
       "      <td>0</td>\n",
       "      <td>1566868236717168640</td>\n",
       "    </tr>\n",
       "    <tr>\n",
       "      <th>...</th>\n",
       "      <td>...</td>\n",
       "      <td>...</td>\n",
       "      <td>...</td>\n",
       "      <td>...</td>\n",
       "    </tr>\n",
       "    <tr>\n",
       "      <th>20942675</th>\n",
       "      <td>165470059</td>\n",
       "      <td>1566868934823085313</td>\n",
       "      <td>3</td>\n",
       "      <td>1566868934823126016</td>\n",
       "    </tr>\n",
       "    <tr>\n",
       "      <th>20942676</th>\n",
       "      <td>165470060</td>\n",
       "      <td>1566868934823159358</td>\n",
       "      <td>3</td>\n",
       "      <td>1566868934823159552</td>\n",
       "    </tr>\n",
       "    <tr>\n",
       "      <th>20942677</th>\n",
       "      <td>165470061</td>\n",
       "      <td>1566868934823184498</td>\n",
       "      <td>3</td>\n",
       "      <td>1566868934823192832</td>\n",
       "    </tr>\n",
       "    <tr>\n",
       "      <th>20942678</th>\n",
       "      <td>165470062</td>\n",
       "      <td>1566868934823192822</td>\n",
       "      <td>3</td>\n",
       "      <td>1566868934823225856</td>\n",
       "    </tr>\n",
       "    <tr>\n",
       "      <th>20942679</th>\n",
       "      <td>165470063</td>\n",
       "      <td>1566868934823258585</td>\n",
       "      <td>3</td>\n",
       "      <td>1566868934823259392</td>\n",
       "    </tr>\n",
       "  </tbody>\n",
       "</table>\n",
       "<p>20942680 rows × 4 columns</p>\n",
       "</div>"
      ],
      "text/plain": [
       "          trodestime              systime  time_chunk_label  \\\n",
       "0          144526916  1566868236717032814                 0   \n",
       "1          144526917  1566868236717048321                 0   \n",
       "2          144526918  1566868236717056628                 0   \n",
       "3          144526919  1566868236717132839                 0   \n",
       "4          144526920  1566868236717148186                 0   \n",
       "...              ...                  ...               ...   \n",
       "20942675   165470059  1566868934823085313                 3   \n",
       "20942676   165470060  1566868934823159358                 3   \n",
       "20942677   165470061  1566868934823184498                 3   \n",
       "20942678   165470062  1566868934823192822                 3   \n",
       "20942679   165470063  1566868934823258585                 3   \n",
       "\n",
       "             adjusted_systime  \n",
       "0         1566868236717035264  \n",
       "1         1566868236717068800  \n",
       "2         1566868236717102080  \n",
       "3         1566868236717135360  \n",
       "4         1566868236717168640  \n",
       "...                       ...  \n",
       "20942675  1566868934823126016  \n",
       "20942676  1566868934823159552  \n",
       "20942677  1566868934823192832  \n",
       "20942678  1566868934823225856  \n",
       "20942679  1566868934823259392  \n",
       "\n",
       "[20942680 rows x 4 columns]"
      ]
     },
     "execution_count": 86,
     "metadata": {},
     "output_type": "execute_result"
    }
   ],
   "source": [
    "continuous_time = readTrodesExtractedDataFile(\n",
    "    '/stelmo/loren/Jaq/preprocessing/20190826/20190826_Jaq_04_lineartrack.time/20190826_Jaq_04_lineartrack.continuoustime.dat')\n",
    "continuous_time = pd.DataFrame(continuous_time['data'])\n",
    "continuous_time"
   ]
  },
  {
   "cell_type": "code",
   "execution_count": 68,
   "metadata": {},
   "outputs": [],
   "source": [
    "NANOSECONDS_TO_SECONDS = 1E9\n",
    "\n",
    "systime_seconds = np.asarray(continuous_time.adjusted_systime).astype(\n",
    "    np.float64) / NANOSECONDS_TO_SECONDS"
   ]
  },
  {
   "cell_type": "code",
   "execution_count": 69,
   "metadata": {},
   "outputs": [
    {
     "data": {
      "text/plain": [
       "(1566868236.7170353, 1566868934.8232594)"
      ]
     },
     "execution_count": 69,
     "metadata": {},
     "output_type": "execute_result"
    }
   ],
   "source": [
    "systime_seconds[0], systime_seconds[-1] "
   ]
  },
  {
   "cell_type": "code",
   "execution_count": 80,
   "metadata": {},
   "outputs": [
    {
     "data": {
      "text/plain": [
       "1425.126577615738"
      ]
     },
     "execution_count": 80,
     "metadata": {},
     "output_type": "execute_result"
    }
   ],
   "source": [
    "systime_seconds[-1] - systime_seconds[0]"
   ]
  },
  {
   "cell_type": "code",
   "execution_count": 70,
   "metadata": {},
   "outputs": [],
   "source": [
    "bad_interval = np.asarray([1566868934.8232594, 1566869278.0735946])"
   ]
  },
  {
   "cell_type": "code",
   "execution_count": 71,
   "metadata": {},
   "outputs": [
    {
     "data": {
      "text/plain": [
       "1"
      ]
     },
     "execution_count": 71,
     "metadata": {},
     "output_type": "execute_result"
    }
   ],
   "source": [
    "is_bad_inteval = (systime_seconds >= bad_interval[0]) & (systime_seconds < bad_interval[1])\n",
    "is_bad_inteval.sum()"
   ]
  },
  {
   "cell_type": "code",
   "execution_count": 72,
   "metadata": {},
   "outputs": [
    {
     "data": {
      "text/plain": [
       "698.1062240600586"
      ]
     },
     "execution_count": 72,
     "metadata": {},
     "output_type": "execute_result"
    }
   ],
   "source": [
    "bad_interval[0] - systime_seconds[0]"
   ]
  },
  {
   "cell_type": "code",
   "execution_count": 73,
   "metadata": {},
   "outputs": [
    {
     "data": {
      "text/plain": [
       "343.2503352165222"
      ]
     },
     "execution_count": 73,
     "metadata": {},
     "output_type": "execute_result"
    }
   ],
   "source": [
    "bad_interval[1] - systime_seconds[-1]"
   ]
  },
  {
   "cell_type": "code",
   "execution_count": 74,
   "metadata": {},
   "outputs": [
    {
     "data": {
      "text/plain": [
       "0.0"
      ]
     },
     "execution_count": 74,
     "metadata": {},
     "output_type": "execute_result"
    }
   ],
   "source": [
    "bad_interval[0] - systime_seconds[-1]"
   ]
  },
  {
   "cell_type": "code",
   "execution_count": 82,
   "metadata": {},
   "outputs": [
    {
     "name": "stdout",
     "output_type": "stream",
     "text": [
      "20190826_Jaq_04_lineartrack.1.pos_cameraHWFrameCount.dat\n",
      "20190826_Jaq_04_lineartrack.1.pos_online.dat\n",
      "20190826_Jaq_04_lineartrack.1.pos_timestamps.dat\n"
     ]
    }
   ],
   "source": [
    "!ls /stelmo/loren/Jaq/preprocessing/20190826/20190826_Jaq_04_lineartrack.1.pos/"
   ]
  },
  {
   "cell_type": "code",
   "execution_count": 104,
   "metadata": {},
   "outputs": [
    {
     "name": "stderr",
     "output_type": "stream",
     "text": [
      "/home/edeno/Documents/Github/rec_to_binaries/rec_to_binaries/read_binaries.py:73: FutureWarning: Passing (type, 1) or '1type' as a synonym of type is deprecated; in a future version of numpy, it will be understood as (type, (1,)) / '(1,)type'.\n",
      "  def write_trodes_extracted_datafile(filename, data_file):\n"
     ]
    },
    {
     "data": {
      "text/html": [
       "<div>\n",
       "<style scoped>\n",
       "    .dataframe tbody tr th:only-of-type {\n",
       "        vertical-align: middle;\n",
       "    }\n",
       "\n",
       "    .dataframe tbody tr th {\n",
       "        vertical-align: top;\n",
       "    }\n",
       "\n",
       "    .dataframe thead th {\n",
       "        text-align: right;\n",
       "    }\n",
       "</style>\n",
       "<table border=\"1\" class=\"dataframe\">\n",
       "  <thead>\n",
       "    <tr style=\"text-align: right;\">\n",
       "      <th></th>\n",
       "      <th>PosTimestamp</th>\n",
       "      <th>HWframeCount</th>\n",
       "      <th>HWTimestamp</th>\n",
       "    </tr>\n",
       "  </thead>\n",
       "  <tbody>\n",
       "    <tr>\n",
       "      <th>0</th>\n",
       "      <td>175767807</td>\n",
       "      <td>2487</td>\n",
       "      <td>1566869278036755400</td>\n",
       "    </tr>\n",
       "    <tr>\n",
       "      <th>1</th>\n",
       "      <td>175768736</td>\n",
       "      <td>2488</td>\n",
       "      <td>1566869278070080400</td>\n",
       "    </tr>\n",
       "    <tr>\n",
       "      <th>2</th>\n",
       "      <td>175769941</td>\n",
       "      <td>2489</td>\n",
       "      <td>1566869278103426600</td>\n",
       "    </tr>\n",
       "    <tr>\n",
       "      <th>3</th>\n",
       "      <td>175770820</td>\n",
       "      <td>2490</td>\n",
       "      <td>1566869278136751600</td>\n",
       "    </tr>\n",
       "    <tr>\n",
       "      <th>4</th>\n",
       "      <td>175771726</td>\n",
       "      <td>2491</td>\n",
       "      <td>1566869278170097800</td>\n",
       "    </tr>\n",
       "    <tr>\n",
       "      <th>...</th>\n",
       "      <td>...</td>\n",
       "      <td>...</td>\n",
       "      <td>...</td>\n",
       "    </tr>\n",
       "    <tr>\n",
       "      <th>42736</th>\n",
       "      <td>218519807</td>\n",
       "      <td>42729</td>\n",
       "      <td>1566870703091454700</td>\n",
       "    </tr>\n",
       "    <tr>\n",
       "      <th>42737</th>\n",
       "      <td>218520729</td>\n",
       "      <td>42730</td>\n",
       "      <td>1566870703124800500</td>\n",
       "    </tr>\n",
       "    <tr>\n",
       "      <th>42738</th>\n",
       "      <td>218521622</td>\n",
       "      <td>42731</td>\n",
       "      <td>1566870703158125100</td>\n",
       "    </tr>\n",
       "    <tr>\n",
       "      <th>42739</th>\n",
       "      <td>218522825</td>\n",
       "      <td>42732</td>\n",
       "      <td>1566870703191470900</td>\n",
       "    </tr>\n",
       "    <tr>\n",
       "      <th>42740</th>\n",
       "      <td>218523717</td>\n",
       "      <td>42733</td>\n",
       "      <td>1566870703224795500</td>\n",
       "    </tr>\n",
       "  </tbody>\n",
       "</table>\n",
       "<p>42741 rows × 3 columns</p>\n",
       "</div>"
      ],
      "text/plain": [
       "       PosTimestamp  HWframeCount          HWTimestamp\n",
       "0         175767807          2487  1566869278036755400\n",
       "1         175768736          2488  1566869278070080400\n",
       "2         175769941          2489  1566869278103426600\n",
       "3         175770820          2490  1566869278136751600\n",
       "4         175771726          2491  1566869278170097800\n",
       "...             ...           ...                  ...\n",
       "42736     218519807         42729  1566870703091454700\n",
       "42737     218520729         42730  1566870703124800500\n",
       "42738     218521622         42731  1566870703158125100\n",
       "42739     218522825         42732  1566870703191470900\n",
       "42740     218523717         42733  1566870703224795500\n",
       "\n",
       "[42741 rows x 3 columns]"
      ]
     },
     "execution_count": 104,
     "metadata": {},
     "output_type": "execute_result"
    }
   ],
   "source": [
    "pos_cameraHWFrameCount = readTrodesExtractedDataFile(\n",
    "    '/stelmo/loren/Jaq/preprocessing/20190826/20190826_Jaq_05_sleep.1.pos/20190826_Jaq_05_sleep.1.pos_cameraHWFrameCount.dat')\n",
    "\n",
    "pos_cameraHWFrameCount = pd.DataFrame(pos_cameraHWFrameCount['data'])\n",
    "pos_cameraHWFrameCount"
   ]
  },
  {
   "cell_type": "code",
   "execution_count": 99,
   "metadata": {},
   "outputs": [
    {
     "data": {
      "text/html": [
       "<div>\n",
       "<style scoped>\n",
       "    .dataframe tbody tr th:only-of-type {\n",
       "        vertical-align: middle;\n",
       "    }\n",
       "\n",
       "    .dataframe tbody tr th {\n",
       "        vertical-align: top;\n",
       "    }\n",
       "\n",
       "    .dataframe thead th {\n",
       "        text-align: right;\n",
       "    }\n",
       "</style>\n",
       "<table border=\"1\" class=\"dataframe\">\n",
       "  <thead>\n",
       "    <tr style=\"text-align: right;\">\n",
       "      <th></th>\n",
       "      <th>0</th>\n",
       "    </tr>\n",
       "  </thead>\n",
       "  <tbody>\n",
       "    <tr>\n",
       "      <th>0</th>\n",
       "      <td>3.384377e-258</td>\n",
       "    </tr>\n",
       "    <tr>\n",
       "      <th>1</th>\n",
       "      <td>3.388514e-258</td>\n",
       "    </tr>\n",
       "    <tr>\n",
       "      <th>2</th>\n",
       "      <td>3.392668e-258</td>\n",
       "    </tr>\n",
       "    <tr>\n",
       "      <th>3</th>\n",
       "      <td>3.396266e-258</td>\n",
       "    </tr>\n",
       "    <tr>\n",
       "      <th>4</th>\n",
       "      <td>3.432484e-258</td>\n",
       "    </tr>\n",
       "    <tr>\n",
       "      <th>...</th>\n",
       "      <td>...</td>\n",
       "    </tr>\n",
       "    <tr>\n",
       "      <th>21365</th>\n",
       "      <td>6.370247e-246</td>\n",
       "    </tr>\n",
       "    <tr>\n",
       "      <th>21366</th>\n",
       "      <td>6.379378e-246</td>\n",
       "    </tr>\n",
       "    <tr>\n",
       "      <th>21367</th>\n",
       "      <td>6.387243e-246</td>\n",
       "    </tr>\n",
       "    <tr>\n",
       "      <th>21368</th>\n",
       "      <td>6.396444e-246</td>\n",
       "    </tr>\n",
       "    <tr>\n",
       "      <th>21369</th>\n",
       "      <td>6.405592e-246</td>\n",
       "    </tr>\n",
       "  </tbody>\n",
       "</table>\n",
       "<p>21370 rows × 1 columns</p>\n",
       "</div>"
      ],
      "text/plain": [
       "                   0\n",
       "0      3.384377e-258\n",
       "1      3.388514e-258\n",
       "2      3.392668e-258\n",
       "3      3.396266e-258\n",
       "4      3.432484e-258\n",
       "...              ...\n",
       "21365  6.370247e-246\n",
       "21366  6.379378e-246\n",
       "21367  6.387243e-246\n",
       "21368  6.396444e-246\n",
       "21369  6.405592e-246\n",
       "\n",
       "[21370 rows x 1 columns]"
      ]
     },
     "execution_count": 99,
     "metadata": {},
     "output_type": "execute_result"
    }
   ],
   "source": [
    "pos_timestamps = readTrodesExtractedDataFile(\n",
    "    '/stelmo/loren/Jaq/preprocessing/20190826/')\n",
    "pos_timestamps = pd.DataFrame(pos_timestamps['data'])\n",
    "pos_timestamps"
   ]
  },
  {
   "cell_type": "code",
   "execution_count": 101,
   "metadata": {},
   "outputs": [
    {
     "data": {
      "text/plain": [
       "3.3843771734463022e-258"
      ]
     },
     "execution_count": 101,
     "metadata": {},
     "output_type": "execute_result"
    }
   ],
   "source": [
    "pos_timestamps.values[0, 0]"
   ]
  },
  {
   "cell_type": "code",
   "execution_count": 143,
   "metadata": {},
   "outputs": [
    {
     "name": "stderr",
     "output_type": "stream",
     "text": [
      "/home/edeno/Documents/Github/rec_to_binaries/rec_to_binaries/read_binaries.py:73: FutureWarning: Passing (type, 1) or '1type' as a synonym of type is deprecated; in a future version of numpy, it will be understood as (type, (1,)) / '(1,)type'.\n",
      "  return np.dtype(typearr)\n"
     ]
    },
    {
     "data": {
      "text/html": [
       "<div>\n",
       "<style scoped>\n",
       "    .dataframe tbody tr th:only-of-type {\n",
       "        vertical-align: middle;\n",
       "    }\n",
       "\n",
       "    .dataframe tbody tr th {\n",
       "        vertical-align: top;\n",
       "    }\n",
       "\n",
       "    .dataframe thead th {\n",
       "        text-align: right;\n",
       "    }\n",
       "</style>\n",
       "<table border=\"1\" class=\"dataframe\">\n",
       "  <thead>\n",
       "    <tr style=\"text-align: right;\">\n",
       "      <th></th>\n",
       "      <th>time</th>\n",
       "      <th>xloc</th>\n",
       "      <th>yloc</th>\n",
       "      <th>xloc2</th>\n",
       "      <th>yloc2</th>\n",
       "    </tr>\n",
       "  </thead>\n",
       "  <tbody>\n",
       "    <tr>\n",
       "      <th>0</th>\n",
       "      <td>6374121</td>\n",
       "      <td>493</td>\n",
       "      <td>472</td>\n",
       "      <td>0</td>\n",
       "      <td>0</td>\n",
       "    </tr>\n",
       "    <tr>\n",
       "      <th>1</th>\n",
       "      <td>6375030</td>\n",
       "      <td>493</td>\n",
       "      <td>472</td>\n",
       "      <td>0</td>\n",
       "      <td>0</td>\n",
       "    </tr>\n",
       "    <tr>\n",
       "      <th>2</th>\n",
       "      <td>6375925</td>\n",
       "      <td>494</td>\n",
       "      <td>471</td>\n",
       "      <td>0</td>\n",
       "      <td>0</td>\n",
       "    </tr>\n",
       "    <tr>\n",
       "      <th>3</th>\n",
       "      <td>6376821</td>\n",
       "      <td>494</td>\n",
       "      <td>471</td>\n",
       "      <td>0</td>\n",
       "      <td>0</td>\n",
       "    </tr>\n",
       "    <tr>\n",
       "      <th>4</th>\n",
       "      <td>6378031</td>\n",
       "      <td>494</td>\n",
       "      <td>472</td>\n",
       "      <td>0</td>\n",
       "      <td>0</td>\n",
       "    </tr>\n",
       "    <tr>\n",
       "      <th>...</th>\n",
       "      <td>...</td>\n",
       "      <td>...</td>\n",
       "      <td>...</td>\n",
       "      <td>...</td>\n",
       "      <td>...</td>\n",
       "    </tr>\n",
       "    <tr>\n",
       "      <th>39441</th>\n",
       "      <td>45831588</td>\n",
       "      <td>462</td>\n",
       "      <td>381</td>\n",
       "      <td>0</td>\n",
       "      <td>0</td>\n",
       "    </tr>\n",
       "    <tr>\n",
       "      <th>39442</th>\n",
       "      <td>45832490</td>\n",
       "      <td>461</td>\n",
       "      <td>382</td>\n",
       "      <td>0</td>\n",
       "      <td>0</td>\n",
       "    </tr>\n",
       "    <tr>\n",
       "      <th>39443</th>\n",
       "      <td>45833379</td>\n",
       "      <td>462</td>\n",
       "      <td>381</td>\n",
       "      <td>0</td>\n",
       "      <td>0</td>\n",
       "    </tr>\n",
       "    <tr>\n",
       "      <th>39444</th>\n",
       "      <td>45834567</td>\n",
       "      <td>462</td>\n",
       "      <td>382</td>\n",
       "      <td>0</td>\n",
       "      <td>0</td>\n",
       "    </tr>\n",
       "    <tr>\n",
       "      <th>39445</th>\n",
       "      <td>45835471</td>\n",
       "      <td>470</td>\n",
       "      <td>380</td>\n",
       "      <td>0</td>\n",
       "      <td>0</td>\n",
       "    </tr>\n",
       "  </tbody>\n",
       "</table>\n",
       "<p>39446 rows × 5 columns</p>\n",
       "</div>"
      ],
      "text/plain": [
       "           time  xloc  yloc  xloc2  yloc2\n",
       "0       6374121   493   472      0      0\n",
       "1       6375030   493   472      0      0\n",
       "2       6375925   494   471      0      0\n",
       "3       6376821   494   471      0      0\n",
       "4       6378031   494   472      0      0\n",
       "...         ...   ...   ...    ...    ...\n",
       "39441  45831588   462   381      0      0\n",
       "39442  45832490   461   382      0      0\n",
       "39443  45833379   462   381      0      0\n",
       "39444  45834567   462   382      0      0\n",
       "39445  45835471   470   380      0      0\n",
       "\n",
       "[39446 rows x 5 columns]"
      ]
     },
     "execution_count": 143,
     "metadata": {},
     "output_type": "execute_result"
    }
   ],
   "source": [
    "dat = readTrodesExtractedDataFile(\n",
    "    '/stelmo/abhilasha/animals/Jaq/preprocessing/20190826/20190826_Jaq_01_sleep.1.pos/20190826_Jaq_01_sleep.1.pos_online.dat')\n",
    "dat = pd.DataFrame(dat['data'])\n",
    "dat"
   ]
  },
  {
   "cell_type": "code",
   "execution_count": 145,
   "metadata": {},
   "outputs": [
    {
     "name": "stderr",
     "output_type": "stream",
     "text": [
      "/home/edeno/Documents/Github/rec_to_binaries/rec_to_binaries/read_binaries.py:73: FutureWarning: Passing (type, 1) or '1type' as a synonym of type is deprecated; in a future version of numpy, it will be understood as (type, (1,)) / '(1,)type'.\n",
      "  return np.dtype(typearr)\n"
     ]
    },
    {
     "data": {
      "text/html": [
       "<div>\n",
       "<style scoped>\n",
       "    .dataframe tbody tr th:only-of-type {\n",
       "        vertical-align: middle;\n",
       "    }\n",
       "\n",
       "    .dataframe tbody tr th {\n",
       "        vertical-align: top;\n",
       "    }\n",
       "\n",
       "    .dataframe thead th {\n",
       "        text-align: right;\n",
       "    }\n",
       "</style>\n",
       "<table border=\"1\" class=\"dataframe\">\n",
       "  <thead>\n",
       "    <tr style=\"text-align: right;\">\n",
       "      <th></th>\n",
       "      <th>PosTimestamp</th>\n",
       "      <th>HWframeCount</th>\n",
       "      <th>HWTimestamp</th>\n",
       "    </tr>\n",
       "  </thead>\n",
       "  <tbody>\n",
       "    <tr>\n",
       "      <th>0</th>\n",
       "      <td>6374121</td>\n",
       "      <td>4291</td>\n",
       "      <td>1566863631564017400</td>\n",
       "    </tr>\n",
       "    <tr>\n",
       "      <th>1</th>\n",
       "      <td>6375030</td>\n",
       "      <td>4292</td>\n",
       "      <td>1566863631597342300</td>\n",
       "    </tr>\n",
       "    <tr>\n",
       "      <th>2</th>\n",
       "      <td>6375925</td>\n",
       "      <td>4293</td>\n",
       "      <td>1566863631630688500</td>\n",
       "    </tr>\n",
       "    <tr>\n",
       "      <th>3</th>\n",
       "      <td>6376821</td>\n",
       "      <td>4294</td>\n",
       "      <td>1566863631664013500</td>\n",
       "    </tr>\n",
       "    <tr>\n",
       "      <th>4</th>\n",
       "      <td>6378031</td>\n",
       "      <td>4295</td>\n",
       "      <td>1566863631697338400</td>\n",
       "    </tr>\n",
       "    <tr>\n",
       "      <th>...</th>\n",
       "      <td>...</td>\n",
       "      <td>...</td>\n",
       "      <td>...</td>\n",
       "    </tr>\n",
       "    <tr>\n",
       "      <th>39441</th>\n",
       "      <td>45831588</td>\n",
       "      <td>39434</td>\n",
       "      <td>1566864946813751700</td>\n",
       "    </tr>\n",
       "    <tr>\n",
       "      <th>39442</th>\n",
       "      <td>45832490</td>\n",
       "      <td>39435</td>\n",
       "      <td>1566864946847076600</td>\n",
       "    </tr>\n",
       "    <tr>\n",
       "      <th>39443</th>\n",
       "      <td>45833379</td>\n",
       "      <td>39436</td>\n",
       "      <td>1566864946880401500</td>\n",
       "    </tr>\n",
       "    <tr>\n",
       "      <th>39444</th>\n",
       "      <td>45834567</td>\n",
       "      <td>39437</td>\n",
       "      <td>1566864946913747700</td>\n",
       "    </tr>\n",
       "    <tr>\n",
       "      <th>39445</th>\n",
       "      <td>45835471</td>\n",
       "      <td>39438</td>\n",
       "      <td>1566864946947072600</td>\n",
       "    </tr>\n",
       "  </tbody>\n",
       "</table>\n",
       "<p>39446 rows × 3 columns</p>\n",
       "</div>"
      ],
      "text/plain": [
       "       PosTimestamp  HWframeCount          HWTimestamp\n",
       "0           6374121          4291  1566863631564017400\n",
       "1           6375030          4292  1566863631597342300\n",
       "2           6375925          4293  1566863631630688500\n",
       "3           6376821          4294  1566863631664013500\n",
       "4           6378031          4295  1566863631697338400\n",
       "...             ...           ...                  ...\n",
       "39441      45831588         39434  1566864946813751700\n",
       "39442      45832490         39435  1566864946847076600\n",
       "39443      45833379         39436  1566864946880401500\n",
       "39444      45834567         39437  1566864946913747700\n",
       "39445      45835471         39438  1566864946947072600\n",
       "\n",
       "[39446 rows x 3 columns]"
      ]
     },
     "execution_count": 145,
     "metadata": {},
     "output_type": "execute_result"
    }
   ],
   "source": [
    "dat = readTrodesExtractedDataFile(\n",
    "    '/stelmo/abhilasha/animals/Jaq/preprocessing/20190826/20190826_Jaq_01_sleep.1.pos/20190826_Jaq_01_sleep.1.pos_cameraHWSync.dat')\n",
    "dat = pd.DataFrame(dat['data'])\n",
    "dat"
   ]
  },
  {
   "cell_type": "code",
   "execution_count": 151,
   "metadata": {},
   "outputs": [
    {
     "name": "stderr",
     "output_type": "stream",
     "text": [
      "/home/edeno/Documents/Github/rec_to_binaries/rec_to_binaries/read_binaries.py:73: FutureWarning: Passing (type, 1) or '1type' as a synonym of type is deprecated; in a future version of numpy, it will be understood as (type, (1,)) / '(1,)type'.\n",
      "  return np.dtype(typearr)\n"
     ]
    },
    {
     "data": {
      "text/html": [
       "<div>\n",
       "<style scoped>\n",
       "    .dataframe tbody tr th:only-of-type {\n",
       "        vertical-align: middle;\n",
       "    }\n",
       "\n",
       "    .dataframe tbody tr th {\n",
       "        vertical-align: top;\n",
       "    }\n",
       "\n",
       "    .dataframe thead th {\n",
       "        text-align: right;\n",
       "    }\n",
       "</style>\n",
       "<table border=\"1\" class=\"dataframe\">\n",
       "  <thead>\n",
       "    <tr style=\"text-align: right;\">\n",
       "      <th></th>\n",
       "      <th>time</th>\n",
       "    </tr>\n",
       "  </thead>\n",
       "  <tbody>\n",
       "    <tr>\n",
       "      <th>0</th>\n",
       "      <td>6373442</td>\n",
       "    </tr>\n",
       "    <tr>\n",
       "      <th>1</th>\n",
       "      <td>6373462</td>\n",
       "    </tr>\n",
       "    <tr>\n",
       "      <th>2</th>\n",
       "      <td>6373482</td>\n",
       "    </tr>\n",
       "    <tr>\n",
       "      <th>3</th>\n",
       "      <td>6373502</td>\n",
       "    </tr>\n",
       "    <tr>\n",
       "      <th>4</th>\n",
       "      <td>6373522</td>\n",
       "    </tr>\n",
       "    <tr>\n",
       "      <th>...</th>\n",
       "      <td>...</td>\n",
       "    </tr>\n",
       "    <tr>\n",
       "      <th>1973094</th>\n",
       "      <td>45835486</td>\n",
       "    </tr>\n",
       "    <tr>\n",
       "      <th>1973095</th>\n",
       "      <td>45835506</td>\n",
       "    </tr>\n",
       "    <tr>\n",
       "      <th>1973096</th>\n",
       "      <td>45835526</td>\n",
       "    </tr>\n",
       "    <tr>\n",
       "      <th>1973097</th>\n",
       "      <td>45835546</td>\n",
       "    </tr>\n",
       "    <tr>\n",
       "      <th>1973098</th>\n",
       "      <td>45835566</td>\n",
       "    </tr>\n",
       "  </tbody>\n",
       "</table>\n",
       "<p>1973099 rows × 1 columns</p>\n",
       "</div>"
      ],
      "text/plain": [
       "             time\n",
       "0         6373442\n",
       "1         6373462\n",
       "2         6373482\n",
       "3         6373502\n",
       "4         6373522\n",
       "...           ...\n",
       "1973094  45835486\n",
       "1973095  45835506\n",
       "1973096  45835526\n",
       "1973097  45835546\n",
       "1973098  45835566\n",
       "\n",
       "[1973099 rows x 1 columns]"
      ]
     },
     "execution_count": 151,
     "metadata": {},
     "output_type": "execute_result"
    }
   ],
   "source": [
    "dat = readTrodesExtractedDataFile(\n",
    "    '/stelmo/abhilasha/animals/Jaq/preprocessing/20190826/20190826_Jaq_01_sleep.LFP/20190826_Jaq_01_sleep.timestamps.dat')\n",
    "dat = pd.DataFrame(dat['data'])\n",
    "dat"
   ]
  },
  {
   "cell_type": "code",
   "execution_count": null,
   "metadata": {},
   "outputs": [],
   "source": [
    "dat = readTrodesExtractedDataFile(\n",
    "    '/stelmo/abhilasha/animals/Jaq/preprocessing/20190826/20190826_Jaq_01_sleep.')\n",
    "dat = pd.DataFrame(dat['data'])\n",
    "dat"
   ]
  }
 ],
 "metadata": {
  "kernelspec": {
   "display_name": "Python [conda env:rec_to_binaries] *",
   "language": "python",
   "name": "conda-env-rec_to_binaries-py"
  },
  "language_info": {
   "codemirror_mode": {
    "name": "ipython",
    "version": 3
   },
   "file_extension": ".py",
   "mimetype": "text/x-python",
   "name": "python",
   "nbconvert_exporter": "python",
   "pygments_lexer": "ipython3",
   "version": "3.7.8"
  }
 },
 "nbformat": 4,
 "nbformat_minor": 4
}
