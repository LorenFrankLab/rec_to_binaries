{
 "cells": [
  {
   "cell_type": "code",
   "execution_count": 1,
   "metadata": {},
   "outputs": [],
   "source": [
    "%matplotlib inline\n",
    "%reload_ext autoreload\n",
    "%autoreload 2\n",
    "%config InlineBackend.figure_format = 'retina'"
   ]
  },
  {
   "cell_type": "code",
   "execution_count": 2,
   "metadata": {},
   "outputs": [
    {
     "name": "stderr",
     "output_type": "stream",
     "text": [
      "/home/edeno/Documents/Github/rec_to_binaries/rec_to_binaries/read_binaries.py:70: FutureWarning: Passing (type, 1) or '1type' as a synonym of type is deprecated; in a future version of numpy, it will be understood as (type, (1,)) / '(1,)type'.\n",
      "  return np.dtype(typearr)\n"
     ]
    },
    {
     "data": {
      "text/plain": [
       "{'description': 'Continuous time periods (start and end times)',\n",
       " 'byte_order': 'little endian',\n",
       " 'original_file': '20190902_lotus_06_r3.rec',\n",
       " 'clockrate': '30000',\n",
       " 'system_time_at_creation': '1567459146943',\n",
       " 'timestamp_at_creation': '390829088',\n",
       " 'trodes_version': '1.8.2',\n",
       " 'compile_date': 'May 16 2019',\n",
       " 'compile_time': '10:32:19',\n",
       " 'qt_version': '5.9.8',\n",
       " 'commit_tag': 'heads/Release_1.8.2-0-g9a3e37c',\n",
       " 'controller_firmware': '0.0',\n",
       " 'headstage_firmware': '3.9',\n",
       " 'autosettle': '0',\n",
       " 'smartref': '0',\n",
       " 'gyro': '0',\n",
       " 'accelerometer': '0',\n",
       " 'magnetometer': '0',\n",
       " 'time_offset': '0',\n",
       " 'fields': '<trodestime uint32><systime int64>',\n",
       " 'data': array([(390923532, 1567459150091663430), (390923533, 1567459150091671120),\n",
       "        (390923534, 1567459150091674111), ...,\n",
       "        (443082985, 1567460888733625293), (443082986, 1567460888733629636),\n",
       "        (443082987, 1567460888733631849)],\n",
       "       dtype=[('trodestime', '<u4'), ('systime', '<i8')])}"
      ]
     },
     "execution_count": 2,
     "metadata": {},
     "output_type": "execute_result"
    }
   ],
   "source": [
    "from rec_to_binaries.read_binaries import readTrodesExtractedDataFile\n",
    "\n",
    "import pandas as pd\n",
    "import matplotlib.pyplot as plt\n",
    "import numpy as np\n",
    "\n",
    "readTrodesExtractedDataFile(\n",
    "    '../test_data/lotus/preprocessing/20190902/20190902_lotus_06_r3.time/20190902_lotus_06_r3.continuoustime.dat')"
   ]
  },
  {
   "cell_type": "code",
   "execution_count": 73,
   "metadata": {},
   "outputs": [
    {
     "name": "stderr",
     "output_type": "stream",
     "text": [
      "/home/edeno/Documents/Github/rec_to_binaries/rec_to_binaries/read_binaries.py:70: FutureWarning: Passing (type, 1) or '1type' as a synonym of type is deprecated; in a future version of numpy, it will be understood as (type, (1,)) / '(1,)type'.\n",
      "  return np.dtype(typearr)\n"
     ]
    },
    {
     "data": {
      "text/html": [
       "<div>\n",
       "<style scoped>\n",
       "    .dataframe tbody tr th:only-of-type {\n",
       "        vertical-align: middle;\n",
       "    }\n",
       "\n",
       "    .dataframe tbody tr th {\n",
       "        vertical-align: top;\n",
       "    }\n",
       "\n",
       "    .dataframe thead th {\n",
       "        text-align: right;\n",
       "    }\n",
       "</style>\n",
       "<table border=\"1\" class=\"dataframe\">\n",
       "  <thead>\n",
       "    <tr style=\"text-align: right;\">\n",
       "      <th></th>\n",
       "      <th>trodestime</th>\n",
       "      <th>systime</th>\n",
       "      <th>time_chunk_label</th>\n",
       "      <th>adjusted_systime</th>\n",
       "    </tr>\n",
       "  </thead>\n",
       "  <tbody>\n",
       "    <tr>\n",
       "      <th>0</th>\n",
       "      <td>390923532</td>\n",
       "      <td>1567459150091663430</td>\n",
       "      <td>0</td>\n",
       "      <td>1567459150091796480</td>\n",
       "    </tr>\n",
       "    <tr>\n",
       "      <th>1</th>\n",
       "      <td>390923533</td>\n",
       "      <td>1567459150091671120</td>\n",
       "      <td>0</td>\n",
       "      <td>1567459150091829504</td>\n",
       "    </tr>\n",
       "    <tr>\n",
       "      <th>2</th>\n",
       "      <td>390923534</td>\n",
       "      <td>1567459150091674111</td>\n",
       "      <td>0</td>\n",
       "      <td>1567459150091863040</td>\n",
       "    </tr>\n",
       "    <tr>\n",
       "      <th>3</th>\n",
       "      <td>390923535</td>\n",
       "      <td>1567459150091676962</td>\n",
       "      <td>0</td>\n",
       "      <td>1567459150091896320</td>\n",
       "    </tr>\n",
       "    <tr>\n",
       "      <th>4</th>\n",
       "      <td>390923536</td>\n",
       "      <td>1567459150091679726</td>\n",
       "      <td>0</td>\n",
       "      <td>1567459150091929600</td>\n",
       "    </tr>\n",
       "    <tr>\n",
       "      <th>...</th>\n",
       "      <td>...</td>\n",
       "      <td>...</td>\n",
       "      <td>...</td>\n",
       "      <td>...</td>\n",
       "    </tr>\n",
       "    <tr>\n",
       "      <th>52159451</th>\n",
       "      <td>443082983</td>\n",
       "      <td>1567460888733526586</td>\n",
       "      <td>0</td>\n",
       "      <td>1567460888733756416</td>\n",
       "    </tr>\n",
       "    <tr>\n",
       "      <th>52159452</th>\n",
       "      <td>443082984</td>\n",
       "      <td>1567460888733528880</td>\n",
       "      <td>0</td>\n",
       "      <td>1567460888733789952</td>\n",
       "    </tr>\n",
       "    <tr>\n",
       "      <th>52159453</th>\n",
       "      <td>443082985</td>\n",
       "      <td>1567460888733625293</td>\n",
       "      <td>0</td>\n",
       "      <td>1567460888733822976</td>\n",
       "    </tr>\n",
       "    <tr>\n",
       "      <th>52159454</th>\n",
       "      <td>443082986</td>\n",
       "      <td>1567460888733629636</td>\n",
       "      <td>0</td>\n",
       "      <td>1567460888733856512</td>\n",
       "    </tr>\n",
       "    <tr>\n",
       "      <th>52159455</th>\n",
       "      <td>443082987</td>\n",
       "      <td>1567460888733631849</td>\n",
       "      <td>0</td>\n",
       "      <td>1567460888733889792</td>\n",
       "    </tr>\n",
       "  </tbody>\n",
       "</table>\n",
       "<p>52159456 rows × 4 columns</p>\n",
       "</div>"
      ],
      "text/plain": [
       "          trodestime              systime  time_chunk_label  \\\n",
       "0          390923532  1567459150091663430                 0   \n",
       "1          390923533  1567459150091671120                 0   \n",
       "2          390923534  1567459150091674111                 0   \n",
       "3          390923535  1567459150091676962                 0   \n",
       "4          390923536  1567459150091679726                 0   \n",
       "...              ...                  ...               ...   \n",
       "52159451   443082983  1567460888733526586                 0   \n",
       "52159452   443082984  1567460888733528880                 0   \n",
       "52159453   443082985  1567460888733625293                 0   \n",
       "52159454   443082986  1567460888733629636                 0   \n",
       "52159455   443082987  1567460888733631849                 0   \n",
       "\n",
       "             adjusted_systime  \n",
       "0         1567459150091796480  \n",
       "1         1567459150091829504  \n",
       "2         1567459150091863040  \n",
       "3         1567459150091896320  \n",
       "4         1567459150091929600  \n",
       "...                       ...  \n",
       "52159451  1567460888733756416  \n",
       "52159452  1567460888733789952  \n",
       "52159453  1567460888733822976  \n",
       "52159454  1567460888733856512  \n",
       "52159455  1567460888733889792  \n",
       "\n",
       "[52159456 rows x 4 columns]"
      ]
     },
     "execution_count": 73,
     "metadata": {},
     "output_type": "execute_result"
    }
   ],
   "source": [
    "from rec_to_binaries.adjust_timestamps import _label_time_chunks, _regress_timestamps\n",
    "\n",
    "continuoustime_filename = '../test_data/lotus/preprocessing/20190902/20190902_lotus_06_r3.time/20190902_lotus_06_r3.continuoustime.dat'\n",
    "\n",
    "data_file = readTrodesExtractedDataFile(continuoustime_filename)\n",
    "new_data = (\n",
    "    pd.DataFrame(data_file['data'])\n",
    "    .assign(\n",
    "        time_chunk_label=lambda df: _label_time_chunks(df.trodestime))\n",
    "    .assign(\n",
    "        adjusted_systime=lambda df: _regress_timestamps(df.trodestime,\n",
    "                                               df.systime)))\n",
    "new_data"
   ]
  },
  {
   "cell_type": "code",
   "execution_count": 72,
   "metadata": {},
   "outputs": [
    {
     "data": {
      "text/html": [
       "<div>\n",
       "<style scoped>\n",
       "    .dataframe tbody tr th:only-of-type {\n",
       "        vertical-align: middle;\n",
       "    }\n",
       "\n",
       "    .dataframe tbody tr th {\n",
       "        vertical-align: top;\n",
       "    }\n",
       "\n",
       "    .dataframe thead th {\n",
       "        text-align: right;\n",
       "    }\n",
       "</style>\n",
       "<table border=\"1\" class=\"dataframe\">\n",
       "  <thead>\n",
       "    <tr style=\"text-align: right;\">\n",
       "      <th></th>\n",
       "      <th>trodestime</th>\n",
       "      <th>systime</th>\n",
       "      <th>time_chunk_label</th>\n",
       "      <th>adjusted_systime</th>\n",
       "    </tr>\n",
       "  </thead>\n",
       "  <tbody>\n",
       "    <tr>\n",
       "      <th>0</th>\n",
       "      <td>390923532</td>\n",
       "      <td>1567459146943000000</td>\n",
       "      <td>1</td>\n",
       "      <td>1567459146943000000</td>\n",
       "    </tr>\n",
       "    <tr>\n",
       "      <th>1</th>\n",
       "      <td>390923533</td>\n",
       "      <td>1567459146943033333</td>\n",
       "      <td>1</td>\n",
       "      <td>1567459146943033333</td>\n",
       "    </tr>\n",
       "    <tr>\n",
       "      <th>2</th>\n",
       "      <td>390923534</td>\n",
       "      <td>1567459146943066666</td>\n",
       "      <td>1</td>\n",
       "      <td>1567459146943066666</td>\n",
       "    </tr>\n",
       "    <tr>\n",
       "      <th>3</th>\n",
       "      <td>390923535</td>\n",
       "      <td>1567459146943100000</td>\n",
       "      <td>1</td>\n",
       "      <td>1567459146943100000</td>\n",
       "    </tr>\n",
       "    <tr>\n",
       "      <th>4</th>\n",
       "      <td>390923536</td>\n",
       "      <td>1567459146943133333</td>\n",
       "      <td>1</td>\n",
       "      <td>1567459146943133333</td>\n",
       "    </tr>\n",
       "    <tr>\n",
       "      <th>...</th>\n",
       "      <td>...</td>\n",
       "      <td>...</td>\n",
       "      <td>...</td>\n",
       "      <td>...</td>\n",
       "    </tr>\n",
       "    <tr>\n",
       "      <th>52159451</th>\n",
       "      <td>443082983</td>\n",
       "      <td>1567460885591366666</td>\n",
       "      <td>1</td>\n",
       "      <td>1567460885591366666</td>\n",
       "    </tr>\n",
       "    <tr>\n",
       "      <th>52159452</th>\n",
       "      <td>443082984</td>\n",
       "      <td>1567460885591400000</td>\n",
       "      <td>1</td>\n",
       "      <td>1567460885591400000</td>\n",
       "    </tr>\n",
       "    <tr>\n",
       "      <th>52159453</th>\n",
       "      <td>443082985</td>\n",
       "      <td>1567460885591433333</td>\n",
       "      <td>1</td>\n",
       "      <td>1567460885591433333</td>\n",
       "    </tr>\n",
       "    <tr>\n",
       "      <th>52159454</th>\n",
       "      <td>443082986</td>\n",
       "      <td>1567460885591466666</td>\n",
       "      <td>1</td>\n",
       "      <td>1567460885591466666</td>\n",
       "    </tr>\n",
       "    <tr>\n",
       "      <th>52159455</th>\n",
       "      <td>443082987</td>\n",
       "      <td>1567460885591500000</td>\n",
       "      <td>1</td>\n",
       "      <td>1567460885591500000</td>\n",
       "    </tr>\n",
       "  </tbody>\n",
       "</table>\n",
       "<p>52159456 rows × 4 columns</p>\n",
       "</div>"
      ],
      "text/plain": [
       "          trodestime              systime  time_chunk_label  \\\n",
       "0          390923532  1567459146943000000                 1   \n",
       "1          390923533  1567459146943033333                 1   \n",
       "2          390923534  1567459146943066666                 1   \n",
       "3          390923535  1567459146943100000                 1   \n",
       "4          390923536  1567459146943133333                 1   \n",
       "...              ...                  ...               ...   \n",
       "52159451   443082983  1567460885591366666                 1   \n",
       "52159452   443082984  1567460885591400000                 1   \n",
       "52159453   443082985  1567460885591433333                 1   \n",
       "52159454   443082986  1567460885591466666                 1   \n",
       "52159455   443082987  1567460885591500000                 1   \n",
       "\n",
       "             adjusted_systime  \n",
       "0         1567459146943000000  \n",
       "1         1567459146943033333  \n",
       "2         1567459146943066666  \n",
       "3         1567459146943100000  \n",
       "4         1567459146943133333  \n",
       "...                       ...  \n",
       "52159451  1567460885591366666  \n",
       "52159452  1567460885591400000  \n",
       "52159453  1567460885591433333  \n",
       "52159454  1567460885591466666  \n",
       "52159455  1567460885591500000  \n",
       "\n",
       "[52159456 rows x 4 columns]"
      ]
     },
     "execution_count": 72,
     "metadata": {},
     "output_type": "execute_result"
    }
   ],
   "source": [
    "from rec_to_binaries.create_system_time import infer_systime\n",
    "\n",
    "new_data2 = infer_systime(data_file)\n",
    "new_data2"
   ]
  },
  {
   "cell_type": "code",
   "execution_count": 74,
   "metadata": {},
   "outputs": [
    {
     "data": {
      "text/plain": [
       "(trodestime          uint32\n",
       " systime              int64\n",
       " time_chunk_label     int64\n",
       " adjusted_systime     int64\n",
       " dtype: object,\n",
       " trodestime          uint32\n",
       " systime              int64\n",
       " time_chunk_label     int64\n",
       " adjusted_systime     int64\n",
       " dtype: object)"
      ]
     },
     "execution_count": 74,
     "metadata": {},
     "output_type": "execute_result"
    }
   ],
   "source": [
    "new_data.dtypes, new_data2.dtypes"
   ]
  },
  {
   "cell_type": "code",
   "execution_count": 75,
   "metadata": {},
   "outputs": [
    {
     "data": {
      "text/plain": [
       "array([33024, 33536, 33280, ..., 33024, 33536, 33280])"
      ]
     },
     "execution_count": 75,
     "metadata": {},
     "output_type": "execute_result"
    }
   ],
   "source": [
    "np.diff(new_data.adjusted_systime)"
   ]
  },
  {
   "cell_type": "code",
   "execution_count": 76,
   "metadata": {},
   "outputs": [
    {
     "data": {
      "text/plain": [
       "array([33333, 33333, 33334, ..., 33333, 33333, 33334])"
      ]
     },
     "execution_count": 76,
     "metadata": {},
     "output_type": "execute_result"
    }
   ],
   "source": [
    "np.diff(new_data2.adjusted_systime)"
   ]
  },
  {
   "cell_type": "code",
   "execution_count": 77,
   "metadata": {},
   "outputs": [
    {
     "data": {
      "text/plain": [
       "(1567459150091796480, 1567459150091663430)"
      ]
     },
     "execution_count": 77,
     "metadata": {},
     "output_type": "execute_result"
    }
   ],
   "source": [
    "new_data.adjusted_systime[0], new_data.systime[0]"
   ]
  },
  {
   "cell_type": "code",
   "execution_count": 78,
   "metadata": {},
   "outputs": [
    {
     "data": {
      "text/plain": [
       "1567459146943000000"
      ]
     },
     "execution_count": 78,
     "metadata": {},
     "output_type": "execute_result"
    }
   ],
   "source": [
    "new_data2.adjusted_systime[0]"
   ]
  },
  {
   "cell_type": "code",
   "execution_count": 79,
   "metadata": {},
   "outputs": [
    {
     "data": {
      "text/plain": [
       "Timestamp('2019-09-02 21:19:06.943000')"
      ]
     },
     "execution_count": 79,
     "metadata": {},
     "output_type": "execute_result"
    }
   ],
   "source": [
    "pd.to_datetime(new_data2.adjusted_systime[0])"
   ]
  },
  {
   "cell_type": "code",
   "execution_count": 80,
   "metadata": {},
   "outputs": [
    {
     "data": {
      "text/plain": [
       "Timestamp('2019-09-02 21:19:10.091796480')"
      ]
     },
     "execution_count": 80,
     "metadata": {},
     "output_type": "execute_result"
    }
   ],
   "source": [
    "pd.to_datetime(new_data.adjusted_systime[0])"
   ]
  },
  {
   "cell_type": "code",
   "execution_count": 64,
   "metadata": {},
   "outputs": [
    {
     "data": {
      "text/plain": [
       "Timestamp('2019-09-02 21:19:10.091663430')"
      ]
     },
     "execution_count": 64,
     "metadata": {},
     "output_type": "execute_result"
    }
   ],
   "source": [
    "pd.to_datetime(new_data.systime[0])"
   ]
  },
  {
   "cell_type": "code",
   "execution_count": 67,
   "metadata": {},
   "outputs": [
    {
     "data": {
      "text/plain": [
       "Timestamp('2019-09-02 21:19:06.943000')"
      ]
     },
     "execution_count": 67,
     "metadata": {},
     "output_type": "execute_result"
    }
   ],
   "source": [
    "pd.to_datetime(int(data_file['system_time_at_creation']), unit='ms')"
   ]
  },
  {
   "cell_type": "code",
   "execution_count": 69,
   "metadata": {},
   "outputs": [
    {
     "data": {
      "text/plain": [
       "Timestamp('2019-09-02 21:19:06.943000')"
      ]
     },
     "execution_count": 69,
     "metadata": {},
     "output_type": "execute_result"
    }
   ],
   "source": [
    "t = pd.to_datetime(int(data_file['system_time_at_creation']), unit='ms')\n",
    "t"
   ]
  },
  {
   "cell_type": "code",
   "execution_count": 71,
   "metadata": {},
   "outputs": [
    {
     "data": {
      "text/plain": [
       "41.89598760452183"
      ]
     },
     "execution_count": 71,
     "metadata": {},
     "output_type": "execute_result"
    }
   ],
   "source": [
    "np.log(t.value)"
   ]
  },
  {
   "cell_type": "code",
   "execution_count": 36,
   "metadata": {},
   "outputs": [
    {
     "data": {
      "text/plain": [
       "\u001b[0;31mSignature:\u001b[0m\n",
       "\u001b[0mpd\u001b[0m\u001b[0;34m.\u001b[0m\u001b[0mto_datetime\u001b[0m\u001b[0;34m(\u001b[0m\u001b[0;34m\u001b[0m\n",
       "\u001b[0;34m\u001b[0m    \u001b[0marg\u001b[0m\u001b[0;34m,\u001b[0m\u001b[0;34m\u001b[0m\n",
       "\u001b[0;34m\u001b[0m    \u001b[0merrors\u001b[0m\u001b[0;34m=\u001b[0m\u001b[0;34m'raise'\u001b[0m\u001b[0;34m,\u001b[0m\u001b[0;34m\u001b[0m\n",
       "\u001b[0;34m\u001b[0m    \u001b[0mdayfirst\u001b[0m\u001b[0;34m=\u001b[0m\u001b[0;32mFalse\u001b[0m\u001b[0;34m,\u001b[0m\u001b[0;34m\u001b[0m\n",
       "\u001b[0;34m\u001b[0m    \u001b[0myearfirst\u001b[0m\u001b[0;34m=\u001b[0m\u001b[0;32mFalse\u001b[0m\u001b[0;34m,\u001b[0m\u001b[0;34m\u001b[0m\n",
       "\u001b[0;34m\u001b[0m    \u001b[0mutc\u001b[0m\u001b[0;34m=\u001b[0m\u001b[0;32mNone\u001b[0m\u001b[0;34m,\u001b[0m\u001b[0;34m\u001b[0m\n",
       "\u001b[0;34m\u001b[0m    \u001b[0mformat\u001b[0m\u001b[0;34m=\u001b[0m\u001b[0;32mNone\u001b[0m\u001b[0;34m,\u001b[0m\u001b[0;34m\u001b[0m\n",
       "\u001b[0;34m\u001b[0m    \u001b[0mexact\u001b[0m\u001b[0;34m=\u001b[0m\u001b[0;32mTrue\u001b[0m\u001b[0;34m,\u001b[0m\u001b[0;34m\u001b[0m\n",
       "\u001b[0;34m\u001b[0m    \u001b[0munit\u001b[0m\u001b[0;34m=\u001b[0m\u001b[0;32mNone\u001b[0m\u001b[0;34m,\u001b[0m\u001b[0;34m\u001b[0m\n",
       "\u001b[0;34m\u001b[0m    \u001b[0minfer_datetime_format\u001b[0m\u001b[0;34m=\u001b[0m\u001b[0;32mFalse\u001b[0m\u001b[0;34m,\u001b[0m\u001b[0;34m\u001b[0m\n",
       "\u001b[0;34m\u001b[0m    \u001b[0morigin\u001b[0m\u001b[0;34m=\u001b[0m\u001b[0;34m'unix'\u001b[0m\u001b[0;34m,\u001b[0m\u001b[0;34m\u001b[0m\n",
       "\u001b[0;34m\u001b[0m    \u001b[0mcache\u001b[0m\u001b[0;34m=\u001b[0m\u001b[0;32mTrue\u001b[0m\u001b[0;34m,\u001b[0m\u001b[0;34m\u001b[0m\n",
       "\u001b[0;34m\u001b[0m\u001b[0;34m)\u001b[0m\u001b[0;34m\u001b[0m\u001b[0;34m\u001b[0m\u001b[0m\n",
       "\u001b[0;31mDocstring:\u001b[0m\n",
       "Convert argument to datetime.\n",
       "\n",
       "Parameters\n",
       "----------\n",
       "arg : int, float, str, datetime, list, tuple, 1-d array, Series DataFrame/dict-like\n",
       "    The object to convert to a datetime.\n",
       "errors : {'ignore', 'raise', 'coerce'}, default 'raise'\n",
       "    - If 'raise', then invalid parsing will raise an exception.\n",
       "    - If 'coerce', then invalid parsing will be set as NaT.\n",
       "    - If 'ignore', then invalid parsing will return the input.\n",
       "dayfirst : bool, default False\n",
       "    Specify a date parse order if `arg` is str or its list-likes.\n",
       "    If True, parses dates with the day first, eg 10/11/12 is parsed as\n",
       "    2012-11-10.\n",
       "    Warning: dayfirst=True is not strict, but will prefer to parse\n",
       "    with day first (this is a known bug, based on dateutil behavior).\n",
       "yearfirst : bool, default False\n",
       "    Specify a date parse order if `arg` is str or its list-likes.\n",
       "\n",
       "    - If True parses dates with the year first, eg 10/11/12 is parsed as\n",
       "      2010-11-12.\n",
       "    - If both dayfirst and yearfirst are True, yearfirst is preceded (same\n",
       "      as dateutil).\n",
       "\n",
       "    Warning: yearfirst=True is not strict, but will prefer to parse\n",
       "    with year first (this is a known bug, based on dateutil behavior).\n",
       "utc : bool, default None\n",
       "    Return UTC DatetimeIndex if True (converting any tz-aware\n",
       "    datetime.datetime objects as well).\n",
       "format : str, default None\n",
       "    The strftime to parse time, eg \"%d/%m/%Y\", note that \"%f\" will parse\n",
       "    all the way up to nanoseconds.\n",
       "    See strftime documentation for more information on choices:\n",
       "    https://docs.python.org/3/library/datetime.html#strftime-and-strptime-behavior.\n",
       "exact : bool, True by default\n",
       "    Behaves as:\n",
       "    - If True, require an exact format match.\n",
       "    - If False, allow the format to match anywhere in the target string.\n",
       "\n",
       "unit : str, default 'ns'\n",
       "    The unit of the arg (D,s,ms,us,ns) denote the unit, which is an\n",
       "    integer or float number. This will be based off the origin.\n",
       "    Example, with unit='ms' and origin='unix' (the default), this\n",
       "    would calculate the number of milliseconds to the unix epoch start.\n",
       "infer_datetime_format : bool, default False\n",
       "    If True and no `format` is given, attempt to infer the format of the\n",
       "    datetime strings, and if it can be inferred, switch to a faster\n",
       "    method of parsing them. In some cases this can increase the parsing\n",
       "    speed by ~5-10x.\n",
       "origin : scalar, default 'unix'\n",
       "    Define the reference date. The numeric values would be parsed as number\n",
       "    of units (defined by `unit`) since this reference date.\n",
       "\n",
       "    - If 'unix' (or POSIX) time; origin is set to 1970-01-01.\n",
       "    - If 'julian', unit must be 'D', and origin is set to beginning of\n",
       "      Julian Calendar. Julian day number 0 is assigned to the day starting\n",
       "      at noon on January 1, 4713 BC.\n",
       "    - If Timestamp convertible, origin is set to Timestamp identified by\n",
       "      origin.\n",
       "cache : bool, default True\n",
       "    If True, use a cache of unique, converted dates to apply the datetime\n",
       "    conversion. May produce significant speed-up when parsing duplicate\n",
       "    date strings, especially ones with timezone offsets. The cache is only\n",
       "    used when there are at least 50 values. The presence of out-of-bounds\n",
       "    values will render the cache unusable and may slow down parsing.\n",
       "\n",
       "    .. versionadded:: 0.23.0\n",
       "\n",
       "    .. versionchanged:: 0.25.0\n",
       "        - changed default value from False to True.\n",
       "\n",
       "Returns\n",
       "-------\n",
       "datetime\n",
       "    If parsing succeeded.\n",
       "    Return type depends on input:\n",
       "\n",
       "    - list-like: DatetimeIndex\n",
       "    - Series: Series of datetime64 dtype\n",
       "    - scalar: Timestamp\n",
       "\n",
       "    In case when it is not possible to return designated types (e.g. when\n",
       "    any element of input is before Timestamp.min or after Timestamp.max)\n",
       "    return will have datetime.datetime type (or corresponding\n",
       "    array/Series).\n",
       "\n",
       "See Also\n",
       "--------\n",
       "DataFrame.astype : Cast argument to a specified dtype.\n",
       "to_timedelta : Convert argument to timedelta.\n",
       "convert_dtypes : Convert dtypes.\n",
       "\n",
       "Examples\n",
       "--------\n",
       "Assembling a datetime from multiple columns of a DataFrame. The keys can be\n",
       "common abbreviations like ['year', 'month', 'day', 'minute', 'second',\n",
       "'ms', 'us', 'ns']) or plurals of the same\n",
       "\n",
       ">>> df = pd.DataFrame({'year': [2015, 2016],\n",
       "...                    'month': [2, 3],\n",
       "...                    'day': [4, 5]})\n",
       ">>> pd.to_datetime(df)\n",
       "0   2015-02-04\n",
       "1   2016-03-05\n",
       "dtype: datetime64[ns]\n",
       "\n",
       "If a date does not meet the `timestamp limitations\n",
       "<https://pandas.pydata.org/pandas-docs/stable/user_guide/timeseries.html\n",
       "#timeseries-timestamp-limits>`_, passing errors='ignore'\n",
       "will return the original input instead of raising any exception.\n",
       "\n",
       "Passing errors='coerce' will force an out-of-bounds date to NaT,\n",
       "in addition to forcing non-dates (or non-parseable dates) to NaT.\n",
       "\n",
       ">>> pd.to_datetime('13000101', format='%Y%m%d', errors='ignore')\n",
       "datetime.datetime(1300, 1, 1, 0, 0)\n",
       ">>> pd.to_datetime('13000101', format='%Y%m%d', errors='coerce')\n",
       "NaT\n",
       "\n",
       "Passing infer_datetime_format=True can often-times speedup a parsing\n",
       "if its not an ISO8601 format exactly, but in a regular format.\n",
       "\n",
       ">>> s = pd.Series(['3/11/2000', '3/12/2000', '3/13/2000'] * 1000)\n",
       ">>> s.head()\n",
       "0    3/11/2000\n",
       "1    3/12/2000\n",
       "2    3/13/2000\n",
       "3    3/11/2000\n",
       "4    3/12/2000\n",
       "dtype: object\n",
       "\n",
       ">>> %timeit pd.to_datetime(s, infer_datetime_format=True)  # doctest: +SKIP\n",
       "100 loops, best of 3: 10.4 ms per loop\n",
       "\n",
       ">>> %timeit pd.to_datetime(s, infer_datetime_format=False)  # doctest: +SKIP\n",
       "1 loop, best of 3: 471 ms per loop\n",
       "\n",
       "Using a unix epoch time\n",
       "\n",
       ">>> pd.to_datetime(1490195805, unit='s')\n",
       "Timestamp('2017-03-22 15:16:45')\n",
       ">>> pd.to_datetime(1490195805433502912, unit='ns')\n",
       "Timestamp('2017-03-22 15:16:45.433502912')\n",
       "\n",
       ".. warning:: For float arg, precision rounding might happen. To prevent\n",
       "    unexpected behavior use a fixed-width exact type.\n",
       "\n",
       "Using a non-unix epoch origin\n",
       "\n",
       ">>> pd.to_datetime([1, 2, 3], unit='D',\n",
       "...                origin=pd.Timestamp('1960-01-01'))\n",
       "DatetimeIndex(['1960-01-02', '1960-01-03', '1960-01-04'], dtype='datetime64[ns]', freq=None)\n",
       "\u001b[0;31mFile:\u001b[0m      ~/miniconda3/envs/rec_to_binaries/lib/python3.7/site-packages/pandas/core/tools/datetimes.py\n",
       "\u001b[0;31mType:\u001b[0m      function\n"
      ]
     },
     "metadata": {},
     "output_type": "display_data"
    }
   ],
   "source": [
    "pd.to_datetime"
   ]
  },
  {
   "cell_type": "code",
   "execution_count": 29,
   "metadata": {},
   "outputs": [
    {
     "data": {
      "text/plain": [
       "'1567459146943'"
      ]
     },
     "execution_count": 29,
     "metadata": {},
     "output_type": "execute_result"
    }
   ],
   "source": [
    "data_file['system_time_at_creation']"
   ]
  },
  {
   "cell_type": "code",
   "execution_count": 30,
   "metadata": {},
   "outputs": [
    {
     "data": {
      "text/plain": [
       "{'description': 'Continuous time periods (start and end times)',\n",
       " 'byte_order': 'little endian',\n",
       " 'original_file': '20190902_lotus_06_r3.rec',\n",
       " 'clockrate': '30000',\n",
       " 'system_time_at_creation': '1567459146943',\n",
       " 'timestamp_at_creation': '390829088',\n",
       " 'trodes_version': '1.8.2',\n",
       " 'compile_date': 'May 16 2019',\n",
       " 'compile_time': '10:32:19',\n",
       " 'qt_version': '5.9.8',\n",
       " 'commit_tag': 'heads/Release_1.8.2-0-g9a3e37c',\n",
       " 'controller_firmware': '0.0',\n",
       " 'headstage_firmware': '3.9',\n",
       " 'autosettle': '0',\n",
       " 'smartref': '0',\n",
       " 'gyro': '0',\n",
       " 'accelerometer': '0',\n",
       " 'magnetometer': '0',\n",
       " 'time_offset': '0',\n",
       " 'fields': '<trodestime uint32><systime int64>',\n",
       " 'data': array([(390923532, 1567459150091663430), (390923533, 1567459150091671120),\n",
       "        (390923534, 1567459150091674111), ...,\n",
       "        (443082985, 1567460888733625293), (443082986, 1567460888733629636),\n",
       "        (443082987, 1567460888733631849)],\n",
       "       dtype=[('trodestime', '<u4'), ('systime', '<i8')])}"
      ]
     },
     "execution_count": 30,
     "metadata": {},
     "output_type": "execute_result"
    }
   ],
   "source": [
    "data_file"
   ]
  },
  {
   "cell_type": "code",
   "execution_count": 34,
   "metadata": {},
   "outputs": [
    {
     "data": {
      "text/plain": [
       "{'description': 'Continuous time periods (start and end times)',\n",
       " 'byte_order': 'little endian',\n",
       " 'original_file': '20190902_lotus_06_r3.rec',\n",
       " 'clockrate': '30000',\n",
       " 'system_time_at_creation': '1567459146943',\n",
       " 'timestamp_at_creation': '390829088',\n",
       " 'trodes_version': '1.8.2',\n",
       " 'compile_date': 'May 16 2019',\n",
       " 'compile_time': '10:32:19',\n",
       " 'qt_version': '5.9.8',\n",
       " 'commit_tag': 'heads/Release_1.8.2-0-g9a3e37c',\n",
       " 'controller_firmware': '0.0',\n",
       " 'headstage_firmware': '3.9',\n",
       " 'autosettle': '0',\n",
       " 'smartref': '0',\n",
       " 'gyro': '0',\n",
       " 'accelerometer': '0',\n",
       " 'magnetometer': '0',\n",
       " 'time_offset': '0',\n",
       " 'fields': '<trodestime uint32><systime int64><time_chunk_label int64><adjusted_systime int64>',\n",
       " 'data': array([(390923532, 1567459150091663430, 0, 1567459150091796480),\n",
       "        (390923533, 1567459150091671120, 0, 1567459150091829504),\n",
       "        (390923534, 1567459150091674111, 0, 1567459150091863040), ...,\n",
       "        (443082985, 1567460888733625293, 0, 1567460888733822976),\n",
       "        (443082986, 1567460888733629636, 0, 1567460888733856512),\n",
       "        (443082987, 1567460888733631849, 0, 1567460888733889792)],\n",
       "       dtype=(numpy.record, [('trodestime', '<u4'), ('systime', '<i8'), ('time_chunk_label', '<i8'), ('adjusted_systime', '<i8')]))}"
      ]
     },
     "execution_count": 34,
     "metadata": {},
     "output_type": "execute_result"
    }
   ],
   "source": [
    "from rec_to_binaries.adjust_timestamps import _insert_new_data\n",
    "\n",
    "_insert_new_data(data_file, new_data)"
   ]
  },
  {
   "cell_type": "code",
   "execution_count": 35,
   "metadata": {},
   "outputs": [
    {
     "data": {
      "text/plain": [
       "{'description': 'Continuous time periods (start and end times)',\n",
       " 'byte_order': 'little endian',\n",
       " 'original_file': '20190902_lotus_06_r3.rec',\n",
       " 'clockrate': '30000',\n",
       " 'system_time_at_creation': '1567459146943',\n",
       " 'timestamp_at_creation': '390829088',\n",
       " 'trodes_version': '1.8.2',\n",
       " 'compile_date': 'May 16 2019',\n",
       " 'compile_time': '10:32:19',\n",
       " 'qt_version': '5.9.8',\n",
       " 'commit_tag': 'heads/Release_1.8.2-0-g9a3e37c',\n",
       " 'controller_firmware': '0.0',\n",
       " 'headstage_firmware': '3.9',\n",
       " 'autosettle': '0',\n",
       " 'smartref': '0',\n",
       " 'gyro': '0',\n",
       " 'accelerometer': '0',\n",
       " 'magnetometer': '0',\n",
       " 'time_offset': '0',\n",
       " 'fields': '<trodestime uint32><systime int64><time_chunk_label int64><adjusted_systime int64>',\n",
       " 'data': array([(390923532, 1567459146943, 1, 1567459146943),\n",
       "        (390923533, 1567459180276, 1, 1567459180276),\n",
       "        (390923534, 1567459213609, 1, 1567459213609), ...,\n",
       "        (443082985, 3306107580276, 1, 3306107580276),\n",
       "        (443082986, 3306107613609, 1, 3306107613609),\n",
       "        (443082987, 3306107646943, 1, 3306107646943)],\n",
       "       dtype=(numpy.record, [('trodestime', '<u4'), ('systime', '<i8'), ('time_chunk_label', '<i8'), ('adjusted_systime', '<i8')]))}"
      ]
     },
     "execution_count": 35,
     "metadata": {},
     "output_type": "execute_result"
    }
   ],
   "source": [
    "from rec_to_binaries.adjust_timestamps import _insert_new_data\n",
    "\n",
    "_insert_new_data(data_file, new_data2)"
   ]
  },
  {
   "cell_type": "code",
   "execution_count": 53,
   "metadata": {},
   "outputs": [
    {
     "data": {
      "text/plain": [
       "False"
      ]
     },
     "execution_count": 53,
     "metadata": {},
     "output_type": "execute_result"
    }
   ],
   "source": [
    "'systime' not in data_file['data'].dtype.names"
   ]
  },
  {
   "cell_type": "code",
   "execution_count": 55,
   "metadata": {},
   "outputs": [
    {
     "data": {
      "text/plain": [
       "8192"
      ]
     },
     "execution_count": 55,
     "metadata": {},
     "output_type": "execute_result"
    }
   ],
   "source": []
  },
  {
   "cell_type": "code",
   "execution_count": null,
   "metadata": {},
   "outputs": [],
   "source": []
  }
 ],
 "metadata": {
  "kernelspec": {
   "display_name": "Python [conda env:rec_to_binaries] *",
   "language": "python",
   "name": "conda-env-rec_to_binaries-py"
  },
  "language_info": {
   "codemirror_mode": {
    "name": "ipython",
    "version": 3
   },
   "file_extension": ".py",
   "mimetype": "text/x-python",
   "name": "python",
   "nbconvert_exporter": "python",
   "pygments_lexer": "ipython3",
   "version": "3.7.8"
  }
 },
 "nbformat": 4,
 "nbformat_minor": 4
}
