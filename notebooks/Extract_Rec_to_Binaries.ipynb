{
 "cells": [
  {
   "cell_type": "code",
   "execution_count": 1,
   "metadata": {},
   "outputs": [],
   "source": [
    "%reload_ext autoreload\n",
    "%autoreload 2"
   ]
  },
  {
   "cell_type": "markdown",
   "metadata": {},
   "source": [
    "## File structure before running extraction"
   ]
  },
  {
   "cell_type": "code",
   "execution_count": 2,
   "metadata": {
    "scrolled": false
   },
   "outputs": [
    {
     "name": "stdout",
     "output_type": "stream",
     "text": [
      "\u001b[01;34m../test_data\u001b[00m\r\n",
      "├── \u001b[01;34mlotus\u001b[00m\r\n",
      "│   └── \u001b[01;34mraw\u001b[00m\r\n",
      "│       └── \u001b[01;34m20190902\u001b[00m\r\n",
      "│           ├── 20190902_lotus_06_r3.1.h264\r\n",
      "│           ├── 20190902_lotus_06_r3.1.trackgeometry\r\n",
      "│           ├── 20190902_lotus_06_r3.1.videoPositionTracking\r\n",
      "│           ├── 20190902_lotus_06_r3.1.videoTimeStamps\r\n",
      "│           ├── 20190902_lotus_06_r3.1.videoTimeStamps.cameraHWSync\r\n",
      "│           ├── 20190902_lotus_06_r3.rec\r\n",
      "│           └── 20190902_lotus_06_r3.stateScriptLog\r\n",
      "└── README.md\r\n",
      "\r\n",
      "3 directories, 8 files\r\n"
     ]
    }
   ],
   "source": [
    "!tree ../test_data"
   ]
  },
  {
   "cell_type": "markdown",
   "metadata": {},
   "source": [
    "### Extraction\n",
    "\n",
    "1. Add spike gadgets to path"
   ]
  },
  {
   "cell_type": "code",
   "execution_count": 3,
   "metadata": {},
   "outputs": [
    {
     "name": "stdout",
     "output_type": "stream",
     "text": [
      "/home/edeno/miniconda3/envs/rec_to_binaries/bin:/home/edeno/miniconda3/envs/rec_to_binaries/bin:/home/edeno/miniconda3/condabin:/home/edeno/bin:/home/edeno/.local/bin:/usr/local/sbin:/usr/local/bin:/usr/sbin:/usr/bin:/sbin:/bin:/usr/games:/usr/local/games:/snap/bin:/home/edeno/SpikeGadgets\n"
     ]
    }
   ],
   "source": [
    "import logging\n",
    "import os\n",
    "\n",
    "from rec_to_binaries import extract_trodes_rec_file\n",
    "\n",
    "SPIKE_GADGETS_PATH = os.path.join(os.path.expanduser('~'), 'SpikeGadgets')\n",
    "\n",
    "os.environ['PATH'] += os.pathsep + SPIKE_GADGETS_PATH\n",
    "\n",
    "print(os.environ['PATH'])"
   ]
  },
  {
   "cell_type": "markdown",
   "metadata": {},
   "source": [
    "2. Extract animal `lotus` from `test_data` directory"
   ]
  },
  {
   "cell_type": "code",
   "execution_count": 4,
   "metadata": {
    "scrolled": false
   },
   "outputs": [
    {
     "name": "stderr",
     "output_type": "stream",
     "text": [
      "/home/edeno/Documents/Github/rec_to_binaries/rec_to_binaries/trodes_data.py:601: TrodesDataFormatWarning: anim path (../test_data/lotus/preprocessing) does not exist.\n",
      "  anim_path)), TrodesDataFormatWarning)\n",
      "11-Oct-19 10:01:41 Extracting DIO...\n"
     ]
    },
    {
     "name": "stdout",
     "output_type": "stream",
     "text": [
      "(ID: 0) Running exportdio on animal lotus date 20190902 epoch 06\n",
      "(ID: 0) Full command: ['exportdio', '-rec', '../test_data/lotus/raw/20190902/20190902_lotus_06_r3.rec', '-outputdirectory', '../test_data/lotus/preprocessing/20190902', '-output', '20190902_lotus_06_r3']\n"
     ]
    },
    {
     "name": "stderr",
     "output_type": "stream",
     "text": [
      "11-Oct-19 10:04:18 Extracting LFP...\n"
     ]
    },
    {
     "name": "stdout",
     "output_type": "stream",
     "text": [
      "(ID: 0) Done running ['exportdio', '-rec', '../test_data/lotus/raw/20190902/20190902_lotus_06_r3.rec', '-outputdirectory', '../test_data/lotus/preprocessing/20190902', '-output', '20190902_lotus_06_r3']\n",
      "(ID: 0) Exporting DIO data...\n",
      "(ID: 0) 0 %\n",
      "(ID: 0) 5 %\n",
      "(ID: 0) 10 %\n",
      "(ID: 0) 15 %\n",
      "(ID: 0) 20 %\n",
      "(ID: 0) 25 %\n",
      "(ID: 0) 30 %\n",
      "(ID: 0) 35 %\n",
      "(ID: 0) 40 %\n",
      "(ID: 0) 45 %\n",
      "(ID: 0) 50 %\n",
      "(ID: 0) 55 %\n",
      "(ID: 0) 60 %\n",
      "(ID: 0) 65 %\n",
      "(ID: 0) 70 %\n",
      "(ID: 0) 75 %\n",
      "(ID: 0) 80 %\n",
      "(ID: 0) 85 %\n",
      "(ID: 0) 90 %\n",
      "(ID: 0) 95 %\n",
      "(ID: 0) \n",
      "(ID: 0) Done\n",
      "(ID: 0) Running exportLFP on animal lotus date 20190902 epoch 06\n",
      "(ID: 0) Full command: ['exportLFP', '-rec', '../test_data/lotus/raw/20190902/20190902_lotus_06_r3.rec', '-outputdirectory', '../test_data/lotus/preprocessing/20190902', '-output', '20190902_lotus_06_r3', '-highpass', '0', '-lowpass', '400', '-interp', '0', '-userefs', '0', '-outputrate', '1500']\n"
     ]
    },
    {
     "name": "stderr",
     "output_type": "stream",
     "text": [
      "11-Oct-19 10:06:46 Extracting mda...\n"
     ]
    },
    {
     "name": "stdout",
     "output_type": "stream",
     "text": [
      "(ID: 0) Done running ['exportLFP', '-rec', '../test_data/lotus/raw/20190902/20190902_lotus_06_r3.rec', '-outputdirectory', '../test_data/lotus/preprocessing/20190902', '-output', '20190902_lotus_06_r3', '-highpass', '0', '-lowpass', '400', '-interp', '0', '-userefs', '0', '-outputrate', '1500']\n",
      "(ID: 0) Processing LFP...\n",
      "(ID: 0) 0 %\n",
      "(ID: 0) 5 %\n",
      "(ID: 0) 10 %\n",
      "(ID: 0) 15 %\n",
      "(ID: 0) 20 %\n",
      "(ID: 0) 25 %\n",
      "(ID: 0) 30 %\n",
      "(ID: 0) 35 %\n",
      "(ID: 0) 40 %\n",
      "(ID: 0) 45 %\n",
      "(ID: 0) 50 %\n",
      "(ID: 0) 55 %\n",
      "(ID: 0) 60 %\n",
      "(ID: 0) 65 %\n",
      "(ID: 0) 70 %\n",
      "(ID: 0) 75 %\n",
      "(ID: 0) 80 %\n",
      "(ID: 0) 85 %\n",
      "(ID: 0) 90 %\n",
      "(ID: 0) 95 %\n",
      "(ID: 0) \n",
      "(ID: 0) Done\n",
      "(ID: 0) Running exportmda on animal lotus date 20190902 epoch 06\n",
      "(ID: 0) Full command: ['exportmda', '-rec', '../test_data/lotus/raw/20190902/20190902_lotus_06_r3.rec', '-outputdirectory', '../test_data/lotus/preprocessing/20190902', '-output', '20190902_lotus_06_r3', '-usespikefilters', '0', '-interp', '500', '-userefs', '1']\n"
     ]
    },
    {
     "name": "stderr",
     "output_type": "stream",
     "text": [
      "11-Oct-19 10:14:25 Extracting spikes...\n"
     ]
    },
    {
     "name": "stdout",
     "output_type": "stream",
     "text": [
      "(ID: 0) Done running ['exportmda', '-rec', '../test_data/lotus/raw/20190902/20190902_lotus_06_r3.rec', '-outputdirectory', '../test_data/lotus/preprocessing/20190902', '-output', '20190902_lotus_06_r3', '-usespikefilters', '0', '-interp', '500', '-userefs', '1']\n",
      "(ID: 0) For backwards compatibility, uselfpfilters and usespikefilters flags both set to 0.\n",
      "(ID: 0) Exporting to MDA format file...\n",
      "(ID: 0) 0 %\n",
      "(ID: 0) 5 %\n",
      "(ID: 0) 10 %\n",
      "(ID: 0) 15 %\n",
      "(ID: 0) 20 %\n",
      "(ID: 0) 25 %\n",
      "(ID: 0) 30 %\n",
      "(ID: 0) 35 %\n",
      "(ID: 0) 40 %\n",
      "(ID: 0) 45 %\n",
      "(ID: 0) 50 %\n",
      "(ID: 0) 55 %\n",
      "(ID: 0) 60 %\n",
      "(ID: 0) 65 %\n",
      "(ID: 0) 70 %\n",
      "(ID: 0) 75 %\n",
      "(ID: 0) 80 %\n",
      "(ID: 0) 85 %\n",
      "(ID: 0) 90 %\n",
      "(ID: 0) 95 %\n",
      "(ID: 0) \n",
      "(ID: 0) Done\n",
      "(ID: 0) Running exportspikes on animal lotus date 20190902 epoch 06\n",
      "(ID: 0) Full command: ['exportspikes', '-rec', '../test_data/lotus/raw/20190902/20190902_lotus_06_r3.rec', '-outputdirectory', '../test_data/lotus/preprocessing/20190902', '-output', '20190902_lotus_06_r3']\n"
     ]
    },
    {
     "name": "stderr",
     "output_type": "stream",
     "text": [
      "11-Oct-19 10:19:08 Extracting time...\n"
     ]
    },
    {
     "name": "stdout",
     "output_type": "stream",
     "text": [
      "(ID: 0) Done running ['exportspikes', '-rec', '../test_data/lotus/raw/20190902/20190902_lotus_06_r3.rec', '-outputdirectory', '../test_data/lotus/preprocessing/20190902', '-output', '20190902_lotus_06_r3']\n",
      "(ID: 0) Exporting to spike waveform data...\n",
      "(ID: 0) 0 %\n",
      "(ID: 0) 5 %\n",
      "(ID: 0) 10 %\n",
      "(ID: 0) 15 %\n",
      "(ID: 0) 20 %\n",
      "(ID: 0) 25 %\n",
      "(ID: 0) 30 %\n",
      "(ID: 0) 35 %\n",
      "(ID: 0) 40 %\n",
      "(ID: 0) 45 %\n",
      "(ID: 0) 50 %\n",
      "(ID: 0) 55 %\n",
      "(ID: 0) 60 %\n",
      "(ID: 0) 65 %\n",
      "(ID: 0) 70 %\n",
      "(ID: 0) 75 %\n",
      "(ID: 0) 80 %\n",
      "(ID: 0) 85 %\n",
      "(ID: 0) 90 %\n",
      "(ID: 0) 95 %\n",
      "(ID: 0) \n",
      "(ID: 0) Done\n",
      "(ID: 0) Running exporttime on animal lotus date 20190902 epoch 06\n",
      "(ID: 0) Full command: ['exporttime', '-rec', '../test_data/lotus/raw/20190902/20190902_lotus_06_r3.rec', '-outputdirectory', '../test_data/lotus/preprocessing/20190902', '-output', '20190902_lotus_06_r3']\n"
     ]
    },
    {
     "name": "stderr",
     "output_type": "stream",
     "text": [
      "11-Oct-19 10:21:20 Making mountain directory...\n",
      "11-Oct-19 10:21:20 Making position directory...\n"
     ]
    },
    {
     "name": "stdout",
     "output_type": "stream",
     "text": [
      "(ID: 0) Done running ['exporttime', '-rec', '../test_data/lotus/raw/20190902/20190902_lotus_06_r3.rec', '-outputdirectory', '../test_data/lotus/preprocessing/20190902', '-output', '20190902_lotus_06_r3']\n",
      "(ID: 0) Exporting continuous time period data...\n",
      "(ID: 0) File contains system clock information.\n",
      "(ID: 0) 0 %\n",
      "(ID: 0) 5 %\n",
      "(ID: 0) 10 %\n",
      "(ID: 0) 15 %\n",
      "(ID: 0) 20 %\n",
      "(ID: 0) 25 %\n",
      "(ID: 0) 30 %\n",
      "(ID: 0) 35 %\n",
      "(ID: 0) 40 %\n",
      "(ID: 0) 45 %\n",
      "(ID: 0) 50 %\n",
      "(ID: 0) 55 %\n",
      "(ID: 0) 60 %\n",
      "(ID: 0) 65 %\n",
      "(ID: 0) 70 %\n",
      "(ID: 0) 75 %\n",
      "(ID: 0) 80 %\n",
      "(ID: 0) 85 %\n",
      "(ID: 0) 90 %\n",
      "(ID: 0) 95 %\n",
      "(ID: 0) \n",
      "(ID: 0) Done\n"
     ]
    }
   ],
   "source": [
    "logging.basicConfig(level='INFO', format='%(asctime)s %(message)s',\n",
    "                    datefmt='%d-%b-%y %H:%M:%S')\n",
    "\n",
    "data_dir = os.path.join(os.pardir, 'test_data')\n",
    "animal = 'lotus'\n",
    "\n",
    "extract_trodes_rec_file(data_dir, animal, parallel_instances=4, overwrite=True)"
   ]
  },
  {
   "cell_type": "markdown",
   "metadata": {},
   "source": [
    "### File structure after extraction\n",
    "\n",
    "Notice that there is now a preprocessing directory"
   ]
  },
  {
   "cell_type": "code",
   "execution_count": 5,
   "metadata": {
    "scrolled": false
   },
   "outputs": [
    {
     "name": "stdout",
     "output_type": "stream",
     "text": [
      "\u001b[01;34m../test_data\u001b[00m\r\n",
      "├── \u001b[01;34mlotus\u001b[00m\r\n",
      "│   ├── \u001b[01;34mpreprocessing\u001b[00m\r\n",
      "│   │   └── \u001b[01;34m20190902\u001b[00m\r\n",
      "│   │       ├── \u001b[01;34m20190902_lotus_06_r3.1.pos\u001b[00m\r\n",
      "│   │       │   ├── 20190902_lotus_06_r3.1.pos_cameraHWFrameCount.dat\r\n",
      "│   │       │   ├── 20190902_lotus_06_r3.1.pos_online.dat\r\n",
      "│   │       │   └── 20190902_lotus_06_r3.1.pos_timestamps.dat\r\n",
      "│   │       ├── \u001b[01;34m20190902_lotus_06_r3.DIO\u001b[00m\r\n",
      "│   │       │   ├── 20190902_lotus_06_r3.dio_Din10.dat\r\n",
      "│   │       │   ├── 20190902_lotus_06_r3.dio_Din11.dat\r\n",
      "│   │       │   ├── 20190902_lotus_06_r3.dio_Din12.dat\r\n",
      "│   │       │   ├── 20190902_lotus_06_r3.dio_Din13.dat\r\n",
      "│   │       │   ├── 20190902_lotus_06_r3.dio_Din14.dat\r\n",
      "│   │       │   ├── 20190902_lotus_06_r3.dio_Din15.dat\r\n",
      "│   │       │   ├── 20190902_lotus_06_r3.dio_Din16.dat\r\n",
      "│   │       │   ├── 20190902_lotus_06_r3.dio_Din17.dat\r\n",
      "│   │       │   ├── 20190902_lotus_06_r3.dio_Din18.dat\r\n",
      "│   │       │   ├── 20190902_lotus_06_r3.dio_Din19.dat\r\n",
      "│   │       │   ├── 20190902_lotus_06_r3.dio_Din1.dat\r\n",
      "│   │       │   ├── 20190902_lotus_06_r3.dio_Din20.dat\r\n",
      "│   │       │   ├── 20190902_lotus_06_r3.dio_Din21.dat\r\n",
      "│   │       │   ├── 20190902_lotus_06_r3.dio_Din22.dat\r\n",
      "│   │       │   ├── 20190902_lotus_06_r3.dio_Din23.dat\r\n",
      "│   │       │   ├── 20190902_lotus_06_r3.dio_Din24.dat\r\n",
      "│   │       │   ├── 20190902_lotus_06_r3.dio_Din25.dat\r\n",
      "│   │       │   ├── 20190902_lotus_06_r3.dio_Din26.dat\r\n",
      "│   │       │   ├── 20190902_lotus_06_r3.dio_Din27.dat\r\n",
      "│   │       │   ├── 20190902_lotus_06_r3.dio_Din28.dat\r\n",
      "│   │       │   ├── 20190902_lotus_06_r3.dio_Din29.dat\r\n",
      "│   │       │   ├── 20190902_lotus_06_r3.dio_Din2.dat\r\n",
      "│   │       │   ├── 20190902_lotus_06_r3.dio_Din30.dat\r\n",
      "│   │       │   ├── 20190902_lotus_06_r3.dio_Din31.dat\r\n",
      "│   │       │   ├── 20190902_lotus_06_r3.dio_Din32.dat\r\n",
      "│   │       │   ├── 20190902_lotus_06_r3.dio_Din3.dat\r\n",
      "│   │       │   ├── 20190902_lotus_06_r3.dio_Din4.dat\r\n",
      "│   │       │   ├── 20190902_lotus_06_r3.dio_Din5.dat\r\n",
      "│   │       │   ├── 20190902_lotus_06_r3.dio_Din6.dat\r\n",
      "│   │       │   ├── 20190902_lotus_06_r3.dio_Din7.dat\r\n",
      "│   │       │   ├── 20190902_lotus_06_r3.dio_Din8.dat\r\n",
      "│   │       │   ├── 20190902_lotus_06_r3.dio_Din9.dat\r\n",
      "│   │       │   ├── 20190902_lotus_06_r3.dio_Dout10.dat\r\n",
      "│   │       │   ├── 20190902_lotus_06_r3.dio_Dout11.dat\r\n",
      "│   │       │   ├── 20190902_lotus_06_r3.dio_Dout12.dat\r\n",
      "│   │       │   ├── 20190902_lotus_06_r3.dio_Dout13.dat\r\n",
      "│   │       │   ├── 20190902_lotus_06_r3.dio_Dout14.dat\r\n",
      "│   │       │   ├── 20190902_lotus_06_r3.dio_Dout15.dat\r\n",
      "│   │       │   ├── 20190902_lotus_06_r3.dio_Dout16.dat\r\n",
      "│   │       │   ├── 20190902_lotus_06_r3.dio_Dout17.dat\r\n",
      "│   │       │   ├── 20190902_lotus_06_r3.dio_Dout18.dat\r\n",
      "│   │       │   ├── 20190902_lotus_06_r3.dio_Dout19.dat\r\n",
      "│   │       │   ├── 20190902_lotus_06_r3.dio_Dout1.dat\r\n",
      "│   │       │   ├── 20190902_lotus_06_r3.dio_Dout20.dat\r\n",
      "│   │       │   ├── 20190902_lotus_06_r3.dio_Dout21.dat\r\n",
      "│   │       │   ├── 20190902_lotus_06_r3.dio_Dout22.dat\r\n",
      "│   │       │   ├── 20190902_lotus_06_r3.dio_Dout23.dat\r\n",
      "│   │       │   ├── 20190902_lotus_06_r3.dio_Dout24.dat\r\n",
      "│   │       │   ├── 20190902_lotus_06_r3.dio_Dout25.dat\r\n",
      "│   │       │   ├── 20190902_lotus_06_r3.dio_Dout26.dat\r\n",
      "│   │       │   ├── 20190902_lotus_06_r3.dio_Dout27.dat\r\n",
      "│   │       │   ├── 20190902_lotus_06_r3.dio_Dout28.dat\r\n",
      "│   │       │   ├── 20190902_lotus_06_r3.dio_Dout29.dat\r\n",
      "│   │       │   ├── 20190902_lotus_06_r3.dio_Dout2.dat\r\n",
      "│   │       │   ├── 20190902_lotus_06_r3.dio_Dout30.dat\r\n",
      "│   │       │   ├── 20190902_lotus_06_r3.dio_Dout31.dat\r\n",
      "│   │       │   ├── 20190902_lotus_06_r3.dio_Dout32.dat\r\n",
      "│   │       │   ├── 20190902_lotus_06_r3.dio_Dout3.dat\r\n",
      "│   │       │   ├── 20190902_lotus_06_r3.dio_Dout4.dat\r\n",
      "│   │       │   ├── 20190902_lotus_06_r3.dio_Dout5.dat\r\n",
      "│   │       │   ├── 20190902_lotus_06_r3.dio_Dout6.dat\r\n",
      "│   │       │   ├── 20190902_lotus_06_r3.dio_Dout7.dat\r\n",
      "│   │       │   ├── 20190902_lotus_06_r3.dio_Dout8.dat\r\n",
      "│   │       │   ├── 20190902_lotus_06_r3.dio_Dout9.dat\r\n",
      "│   │       │   └── 20190902_lotus_06_r3.exportdio.log\r\n",
      "│   │       ├── \u001b[01;34m20190902_lotus_06_r3.LFP\u001b[00m\r\n",
      "│   │       │   ├── 20190902_lotus_06_r3.exportLFP.log\r\n",
      "│   │       │   ├── 20190902_lotus_06_r3.LFP_nt10ch1.dat\r\n",
      "│   │       │   ├── 20190902_lotus_06_r3.LFP_nt11ch1.dat\r\n",
      "│   │       │   ├── 20190902_lotus_06_r3.LFP_nt12ch1.dat\r\n",
      "│   │       │   ├── 20190902_lotus_06_r3.LFP_nt13ch1.dat\r\n",
      "│   │       │   ├── 20190902_lotus_06_r3.LFP_nt14ch1.dat\r\n",
      "│   │       │   ├── 20190902_lotus_06_r3.LFP_nt15ch1.dat\r\n",
      "│   │       │   ├── 20190902_lotus_06_r3.LFP_nt16ch1.dat\r\n",
      "│   │       │   ├── 20190902_lotus_06_r3.LFP_nt17ch1.dat\r\n",
      "│   │       │   ├── 20190902_lotus_06_r3.LFP_nt18ch1.dat\r\n",
      "│   │       │   ├── 20190902_lotus_06_r3.LFP_nt19ch1.dat\r\n",
      "│   │       │   ├── 20190902_lotus_06_r3.LFP_nt1ch1.dat\r\n",
      "│   │       │   ├── 20190902_lotus_06_r3.LFP_nt20ch1.dat\r\n",
      "│   │       │   ├── 20190902_lotus_06_r3.LFP_nt21ch1.dat\r\n",
      "│   │       │   ├── 20190902_lotus_06_r3.LFP_nt22ch1.dat\r\n",
      "│   │       │   ├── 20190902_lotus_06_r3.LFP_nt23ch1.dat\r\n",
      "│   │       │   ├── 20190902_lotus_06_r3.LFP_nt24ch1.dat\r\n",
      "│   │       │   ├── 20190902_lotus_06_r3.LFP_nt25ch1.dat\r\n",
      "│   │       │   ├── 20190902_lotus_06_r3.LFP_nt26ch1.dat\r\n",
      "│   │       │   ├── 20190902_lotus_06_r3.LFP_nt27ch1.dat\r\n",
      "│   │       │   ├── 20190902_lotus_06_r3.LFP_nt28ch1.dat\r\n",
      "│   │       │   ├── 20190902_lotus_06_r3.LFP_nt29ch1.dat\r\n",
      "│   │       │   ├── 20190902_lotus_06_r3.LFP_nt2ch1.dat\r\n",
      "│   │       │   ├── 20190902_lotus_06_r3.LFP_nt30ch1.dat\r\n",
      "│   │       │   ├── 20190902_lotus_06_r3.LFP_nt31ch1.dat\r\n",
      "│   │       │   ├── 20190902_lotus_06_r3.LFP_nt32ch1.dat\r\n",
      "│   │       │   ├── 20190902_lotus_06_r3.LFP_nt3ch1.dat\r\n",
      "│   │       │   ├── 20190902_lotus_06_r3.LFP_nt4ch1.dat\r\n",
      "│   │       │   ├── 20190902_lotus_06_r3.LFP_nt5ch1.dat\r\n",
      "│   │       │   ├── 20190902_lotus_06_r3.LFP_nt6ch1.dat\r\n",
      "│   │       │   ├── 20190902_lotus_06_r3.LFP_nt7ch1.dat\r\n",
      "│   │       │   ├── 20190902_lotus_06_r3.LFP_nt8ch1.dat\r\n",
      "│   │       │   ├── 20190902_lotus_06_r3.LFP_nt9ch1.dat\r\n",
      "│   │       │   └── 20190902_lotus_06_r3.timestamps.dat\r\n",
      "│   │       ├── \u001b[01;34m20190902_lotus_06_r3.mda\u001b[00m\r\n",
      "│   │       │   ├── 20190902_lotus_06_r3.exportmda.log\r\n",
      "│   │       │   ├── 20190902_lotus_06_r3.nt10.mda\r\n",
      "│   │       │   ├── 20190902_lotus_06_r3.nt11.mda\r\n",
      "│   │       │   ├── 20190902_lotus_06_r3.nt12.mda\r\n",
      "│   │       │   ├── 20190902_lotus_06_r3.nt13.mda\r\n",
      "│   │       │   ├── 20190902_lotus_06_r3.nt14.mda\r\n",
      "│   │       │   ├── 20190902_lotus_06_r3.nt15.mda\r\n",
      "│   │       │   ├── 20190902_lotus_06_r3.nt16.mda\r\n",
      "│   │       │   ├── 20190902_lotus_06_r3.nt17.mda\r\n",
      "│   │       │   ├── 20190902_lotus_06_r3.nt18.mda\r\n",
      "│   │       │   ├── 20190902_lotus_06_r3.nt19.mda\r\n",
      "│   │       │   ├── 20190902_lotus_06_r3.nt1.mda\r\n",
      "│   │       │   ├── 20190902_lotus_06_r3.nt20.mda\r\n",
      "│   │       │   ├── 20190902_lotus_06_r3.nt21.mda\r\n",
      "│   │       │   ├── 20190902_lotus_06_r3.nt22.mda\r\n",
      "│   │       │   ├── 20190902_lotus_06_r3.nt23.mda\r\n",
      "│   │       │   ├── 20190902_lotus_06_r3.nt24.mda\r\n",
      "│   │       │   ├── 20190902_lotus_06_r3.nt25.mda\r\n",
      "│   │       │   ├── 20190902_lotus_06_r3.nt26.mda\r\n",
      "│   │       │   ├── 20190902_lotus_06_r3.nt27.mda\r\n",
      "│   │       │   ├── 20190902_lotus_06_r3.nt28.mda\r\n",
      "│   │       │   ├── 20190902_lotus_06_r3.nt29.mda\r\n",
      "│   │       │   ├── 20190902_lotus_06_r3.nt2.mda\r\n",
      "│   │       │   ├── 20190902_lotus_06_r3.nt30.mda\r\n",
      "│   │       │   ├── 20190902_lotus_06_r3.nt31.mda\r\n",
      "│   │       │   ├── 20190902_lotus_06_r3.nt32.mda\r\n",
      "│   │       │   ├── 20190902_lotus_06_r3.nt3.mda\r\n",
      "│   │       │   ├── 20190902_lotus_06_r3.nt4.mda\r\n",
      "│   │       │   ├── 20190902_lotus_06_r3.nt5.mda\r\n",
      "│   │       │   ├── 20190902_lotus_06_r3.nt6.mda\r\n",
      "│   │       │   ├── 20190902_lotus_06_r3.nt7.mda\r\n",
      "│   │       │   ├── 20190902_lotus_06_r3.nt8.mda\r\n",
      "│   │       │   ├── 20190902_lotus_06_r3.nt9.mda\r\n",
      "│   │       │   └── 20190902_lotus_06_r3.timestamps.mda\r\n",
      "│   │       ├── \u001b[01;34m20190902_lotus_06_r3.mountain\u001b[00m\r\n",
      "│   │       ├── \u001b[01;34m20190902_lotus_06_r3.spikes\u001b[00m\r\n",
      "│   │       │   ├── 20190902_lotus_06_r3.exportspikes.log\r\n",
      "│   │       │   ├── 20190902_lotus_06_r3.spikes_nt10.dat\r\n",
      "│   │       │   ├── 20190902_lotus_06_r3.spikes_nt11.dat\r\n",
      "│   │       │   ├── 20190902_lotus_06_r3.spikes_nt12.dat\r\n",
      "│   │       │   ├── 20190902_lotus_06_r3.spikes_nt13.dat\r\n",
      "│   │       │   ├── 20190902_lotus_06_r3.spikes_nt14.dat\r\n",
      "│   │       │   ├── 20190902_lotus_06_r3.spikes_nt15.dat\r\n",
      "│   │       │   ├── 20190902_lotus_06_r3.spikes_nt16.dat\r\n",
      "│   │       │   ├── 20190902_lotus_06_r3.spikes_nt17.dat\r\n",
      "│   │       │   ├── 20190902_lotus_06_r3.spikes_nt18.dat\r\n",
      "│   │       │   ├── 20190902_lotus_06_r3.spikes_nt19.dat\r\n",
      "│   │       │   ├── 20190902_lotus_06_r3.spikes_nt1.dat\r\n",
      "│   │       │   ├── 20190902_lotus_06_r3.spikes_nt20.dat\r\n",
      "│   │       │   ├── 20190902_lotus_06_r3.spikes_nt21.dat\r\n",
      "│   │       │   ├── 20190902_lotus_06_r3.spikes_nt22.dat\r\n",
      "│   │       │   ├── 20190902_lotus_06_r3.spikes_nt23.dat\r\n",
      "│   │       │   ├── 20190902_lotus_06_r3.spikes_nt24.dat\r\n",
      "│   │       │   ├── 20190902_lotus_06_r3.spikes_nt25.dat\r\n",
      "│   │       │   ├── 20190902_lotus_06_r3.spikes_nt26.dat\r\n",
      "│   │       │   ├── 20190902_lotus_06_r3.spikes_nt27.dat\r\n",
      "│   │       │   ├── 20190902_lotus_06_r3.spikes_nt28.dat\r\n",
      "│   │       │   ├── 20190902_lotus_06_r3.spikes_nt29.dat\r\n",
      "│   │       │   ├── 20190902_lotus_06_r3.spikes_nt2.dat\r\n",
      "│   │       │   ├── 20190902_lotus_06_r3.spikes_nt30.dat\r\n",
      "│   │       │   ├── 20190902_lotus_06_r3.spikes_nt31.dat\r\n",
      "│   │       │   ├── 20190902_lotus_06_r3.spikes_nt32.dat\r\n",
      "│   │       │   ├── 20190902_lotus_06_r3.spikes_nt3.dat\r\n",
      "│   │       │   ├── 20190902_lotus_06_r3.spikes_nt4.dat\r\n",
      "│   │       │   ├── 20190902_lotus_06_r3.spikes_nt5.dat\r\n",
      "│   │       │   ├── 20190902_lotus_06_r3.spikes_nt6.dat\r\n",
      "│   │       │   ├── 20190902_lotus_06_r3.spikes_nt7.dat\r\n",
      "│   │       │   ├── 20190902_lotus_06_r3.spikes_nt8.dat\r\n",
      "│   │       │   └── 20190902_lotus_06_r3.spikes_nt9.dat\r\n",
      "│   │       └── \u001b[01;34m20190902_lotus_06_r3.time\u001b[00m\r\n",
      "│   │           ├── 20190902_lotus_06_r3.continuoustime.dat\r\n",
      "│   │           ├── 20190902_lotus_06_r3.exporttime.log\r\n",
      "│   │           └── 20190902_lotus_06_r3.time.dat\r\n",
      "│   └── \u001b[01;34mraw\u001b[00m\r\n",
      "│       └── \u001b[01;34m20190902\u001b[00m\r\n",
      "│           ├── 20190902_lotus_06_r3.1.h264\r\n",
      "│           ├── 20190902_lotus_06_r3.1.trackgeometry\r\n",
      "│           ├── 20190902_lotus_06_r3.1.videoPositionTracking\r\n",
      "│           ├── 20190902_lotus_06_r3.1.videoTimeStamps\r\n",
      "│           ├── 20190902_lotus_06_r3.1.videoTimeStamps.cameraHWSync\r\n",
      "│           ├── 20190902_lotus_06_r3.rec\r\n",
      "│           └── 20190902_lotus_06_r3.stateScriptLog\r\n",
      "└── README.md\r\n",
      "\r\n",
      "12 directories, 180 files\r\n"
     ]
    }
   ],
   "source": [
    "!tree ../test_data"
   ]
  }
 ],
 "metadata": {
  "kernelspec": {
   "display_name": "Python [conda env:rec_to_binaries] *",
   "language": "python",
   "name": "conda-env-rec_to_binaries-py"
  },
  "language_info": {
   "codemirror_mode": {
    "name": "ipython",
    "version": 3
   },
   "file_extension": ".py",
   "mimetype": "text/x-python",
   "name": "python",
   "nbconvert_exporter": "python",
   "pygments_lexer": "ipython3",
   "version": "3.7.3"
  }
 },
 "nbformat": 4,
 "nbformat_minor": 2
}
