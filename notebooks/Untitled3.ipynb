{
 "cells": [
  {
   "cell_type": "code",
   "execution_count": 1,
   "metadata": {},
   "outputs": [],
   "source": [
    "%reload_ext autoreload\n",
    "%autoreload 2"
   ]
  },
  {
   "cell_type": "code",
   "execution_count": 7,
   "metadata": {},
   "outputs": [
    {
     "name": "stdout",
     "output_type": "stream",
     "text": [
      "4J1\t configs\t\t\t histology  J13  J4  J7   kf19\n",
      "beans\t from_tmp_to_delete_if_possible  HPa\t    J14  J5  J8   Lotus\n",
      "charlie  GW27\t\t\t\t J12\t    J15  J6  jaq\n"
     ]
    }
   ],
   "source": [
    "!ls /stelmo/jguidera/"
   ]
  },
  {
   "cell_type": "code",
   "execution_count": 8,
   "metadata": {},
   "outputs": [
    {
     "name": "stdout",
     "output_type": "stream",
     "text": [
      "preprocessing  raw\n"
     ]
    }
   ],
   "source": [
    "!ls /stelmo/jguidera/J12"
   ]
  },
  {
   "cell_type": "code",
   "execution_count": 9,
   "metadata": {},
   "outputs": [],
   "source": [
    "!ls /stelmo/jguidera/J12/preprocessing/"
   ]
  },
  {
   "cell_type": "code",
   "execution_count": 10,
   "metadata": {},
   "outputs": [
    {
     "name": "stdout",
     "output_type": "stream",
     "text": [
      "20200810  20201004  20201009  20201013\t20201017\n",
      "20200811  20201006  20201010  20201014\t20201018\n",
      "20200905  20201007  20201011  20201015\t20201022\n",
      "20201003  20201008  20201012  20201016\tJ12_reconfig.trodesconf\n"
     ]
    }
   ],
   "source": [
    "!ls /stelmo/jguidera/J12/raw/"
   ]
  },
  {
   "cell_type": "code",
   "execution_count": 11,
   "metadata": {},
   "outputs": [
    {
     "name": "stdout",
     "output_type": "stream",
     "text": [
      "20200810_J12_01_r1  20200810_J12_02_r2\t20200810_J12_03_r3  20200810_J12_04_r4\n"
     ]
    }
   ],
   "source": [
    "!ls /stelmo/jguidera/J12/raw/20200810/"
   ]
  },
  {
   "cell_type": "code",
   "execution_count": 12,
   "metadata": {},
   "outputs": [
    {
     "name": "stdout",
     "output_type": "stream",
     "text": [
      "20200810_J12_01_r1.1.h264\n",
      "20200810_J12_01_r1.1.trackgeometry\n",
      "20200810_J12_01_r1.1.videoPositionTracking\n",
      "20200810_J12_01_r1.1.videoTimeStamps\n",
      "20200810_J12_01_r1.1.videoTimeStamps.cameraHWSync\n",
      "20200810_J12_01_r1.rec\n",
      "20200810_J12_01_r1.stateScriptLog\n"
     ]
    }
   ],
   "source": [
    "!ls /stelmo/jguidera/J12/raw/20200810/20200810_J12_01_r1/"
   ]
  },
  {
   "cell_type": "code",
   "execution_count": 13,
   "metadata": {},
   "outputs": [
    {
     "name": "stdout",
     "output_type": "stream",
     "text": [
      "/home/edeno/bin:/home/edeno/.local/bin:/home/edeno/bin:/home/edeno/.local/bin:/home/edeno/miniconda3/envs/rec_to_binaries/bin:/home/edeno/miniconda3/condabin:/usr/local/sbin:/usr/local/bin:/usr/sbin:/usr/bin:/sbin:/bin:/usr/games:/usr/local/games:/snap/bin:/home/edeno/SpikeGadgets\n"
     ]
    }
   ],
   "source": [
    "import logging\n",
    "import os\n",
    "\n",
    "from rec_to_binaries import extract_trodes_rec_file\n",
    "\n",
    "SPIKE_GADGETS_PATH = os.path.join(os.path.expanduser('~'), 'SpikeGadgets')\n",
    "\n",
    "os.environ['PATH'] += os.pathsep + SPIKE_GADGETS_PATH\n",
    "\n",
    "print(os.environ['PATH'])"
   ]
  },
  {
   "cell_type": "code",
   "execution_count": 15,
   "metadata": {},
   "outputs": [],
   "source": [
    "import rec_to_binaries.trodes_data as td\n",
    "\n",
    "\n",
    "logging.basicConfig(level='INFO', format='%(asctime)s %(message)s',\n",
    "                    datefmt='%d-%b-%y %H:%M:%S')\n",
    "\n",
    "data_dir = \"/stelmo/jguidera/\"\n",
    "animal = 'J12'\n",
    "\n",
    "\n",
    "animal_info = td.TrodesAnimalInfo(data_dir, animal)\n",
    "extractor = td.ExtractRawTrodesData(animal_info)\n",
    "raw_epochs_unionset = animal_info.get_raw_epochs_unionset()"
   ]
  },
  {
   "cell_type": "code",
   "execution_count": 16,
   "metadata": {},
   "outputs": [
    {
     "data": {
      "text/plain": [
       "TrodesAnimalInfo(anim_name=J12, base_dir=/stelmo/jguidera/)"
      ]
     },
     "execution_count": 16,
     "metadata": {},
     "output_type": "execute_result"
    }
   ],
   "source": [
    "animal_info"
   ]
  },
  {
   "cell_type": "code",
   "execution_count": 17,
   "metadata": {},
   "outputs": [
    {
     "data": {
      "text/plain": [
       "set()"
      ]
     },
     "execution_count": 17,
     "metadata": {},
     "output_type": "execute_result"
    }
   ],
   "source": [
    "raw_epochs_unionset"
   ]
  },
  {
   "cell_type": "code",
   "execution_count": null,
   "metadata": {},
   "outputs": [],
   "source": []
  }
 ],
 "metadata": {
  "kernelspec": {
   "display_name": "Python [conda env:rec_to_binaries] *",
   "language": "python",
   "name": "conda-env-rec_to_binaries-py"
  },
  "language_info": {
   "codemirror_mode": {
    "name": "ipython",
    "version": 3
   },
   "file_extension": ".py",
   "mimetype": "text/x-python",
   "name": "python",
   "nbconvert_exporter": "python",
   "pygments_lexer": "ipython3",
   "version": "3.7.8"
  }
 },
 "nbformat": 4,
 "nbformat_minor": 4
}
