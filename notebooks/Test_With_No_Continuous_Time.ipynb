{
 "cells": [
  {
   "cell_type": "code",
   "execution_count": 72,
   "metadata": {},
   "outputs": [],
   "source": [
    "%reload_ext autoreload\n",
    "%autoreload 2"
   ]
  },
  {
   "cell_type": "code",
   "execution_count": 73,
   "metadata": {},
   "outputs": [
    {
     "name": "stdout",
     "output_type": "stream",
     "text": [
      "/home/edeno/bin:/home/edeno/.local/bin:/home/edeno/bin:/home/edeno/.local/bin:/home/edeno/miniconda3/envs/rec_to_binaries/bin:/home/edeno/miniconda3/condabin:/usr/local/sbin:/usr/local/bin:/usr/sbin:/usr/bin:/sbin:/bin:/usr/games:/usr/local/games:/snap/bin:/home/edeno/SpikeGadgets:/home/edeno/SpikeGadgets\n"
     ]
    }
   ],
   "source": [
    "import logging\n",
    "import os\n",
    "\n",
    "logging.basicConfig(level='INFO', format='%(asctime)s %(message)s',\n",
    "                    datefmt='%d-%b-%y %H:%M:%S')\n",
    "\n",
    "SPIKE_GADGETS_PATH = os.path.join(os.path.expanduser('~'), 'SpikeGadgets')\n",
    "\n",
    "os.environ['PATH'] += os.pathsep + SPIKE_GADGETS_PATH\n",
    "\n",
    "print(os.environ['PATH'])"
   ]
  },
  {
   "cell_type": "code",
   "execution_count": 83,
   "metadata": {},
   "outputs": [
    {
     "name": "stderr",
     "output_type": "stream",
     "text": [
      "26-Oct-20 14:01:43 Extracting time...\n"
     ]
    },
    {
     "name": "stdout",
     "output_type": "stream",
     "text": [
      "(ID: 0) Running exporttime on animal KF2 date 20170120 epoch 01\n",
      "(ID: 0) Full command: ['exporttime', '-rec', '/data2/edeno/kf2/raw/20170120/20170120_KF2_01_s1.rec', '-outputdirectory', '/data2/edeno/kf2/preprocessing/20170120', '-output', '20170120_KF2_01_s1', '-reconfig', '/data2/edeno/kf2/kf2_reconfig.xml']\n",
      "(ID: 0) Done running ['exporttime', '-rec', '/data2/edeno/kf2/raw/20170120/20170120_KF2_01_s1.rec', '-outputdirectory', '/data2/edeno/kf2/preprocessing/20170120', '-output', '20170120_KF2_01_s1', '-reconfig', '/data2/edeno/kf2/kf2_reconfig.xml']\n",
      "(ID: 0) Exporting continuous time period data...\n",
      "(ID: 0) 0 %\n",
      "(ID: 0) 5 %\n",
      "(ID: 0) 10 %\n",
      "(ID: 0) 15 %\n",
      "(ID: 0) 20 %\n",
      "(ID: 0) 25 %\n",
      "(ID: 0) 30 %\n",
      "(ID: 0) 35 %\n",
      "(ID: 0) 40 %\n",
      "(ID: 0) 45 %\n",
      "(ID: 0) 50 %\n",
      "(ID: 0) 55 %\n",
      "(ID: 0) 60 %\n",
      "(ID: 0) 65 %\n",
      "(ID: 0) 70 %\n",
      "(ID: 0) 75 %\n",
      "(ID: 0) 80 %\n",
      "(ID: 0) 85 %\n",
      "(ID: 0) 90 %\n",
      "(ID: 0) 95 %\n",
      "(ID: 0) \n",
      "(ID: 0) Done\n"
     ]
    },
    {
     "name": "stderr",
     "output_type": "stream",
     "text": [
      "/home/edeno/Documents/Github/rec_to_binaries/rec_to_binaries/read_binaries.py:70: FutureWarning: Passing (type, 1) or '1type' as a synonym of type is deprecated; in a future version of numpy, it will be understood as (type, (1,)) / '(1,)type'.\n",
      "  return np.dtype(typearr)\n"
     ]
    }
   ],
   "source": [
    "from rec_to_binaries import extract_trodes_rec_file\n",
    "\n",
    "data_dir = '/data2/edeno/'\n",
    "animal = 'kf2'\n",
    "\n",
    "reconfig_file = '/data2/edeno/kf2/kf2_reconfig.xml'\n",
    "\n",
    "extract_trodes_rec_file(\n",
    "    data_dir,\n",
    "    animal,\n",
    "    parallel_instances=4,\n",
    "    overwrite=True,\n",
    "    extract_analog=False,\n",
    "    extract_spikes=False,\n",
    "    extract_lfps=False,\n",
    "    extract_dio=False,\n",
    "    extract_time=True,\n",
    "    extract_mda=False,\n",
    "    make_pos_dir=False,\n",
    "    time_export_args=('-reconfig', reconfig_file))"
   ]
  },
  {
   "cell_type": "code",
   "execution_count": 81,
   "metadata": {},
   "outputs": [
    {
     "name": "stdout",
     "output_type": "stream",
     "text": [
      "20170120_KF2_01_s1.analog  20170120_KF2_01_s1.LFP  20170120_KF2_01_s1.spikes\n",
      "20170120_KF2_01_s1.DIO\t   20170120_KF2_01_s1.mda  20170120_KF2_01_s1.time\n"
     ]
    }
   ],
   "source": [
    "!ls /data2/edeno/kf2/preprocessing/20170120/"
   ]
  },
  {
   "cell_type": "code",
   "execution_count": 80,
   "metadata": {},
   "outputs": [
    {
     "ename": "NameError",
     "evalue": "name 'animal_info' is not defined",
     "output_type": "error",
     "traceback": [
      "\u001b[0;31m---------------------------------------------------------------------------\u001b[0m",
      "\u001b[0;31mNameError\u001b[0m                                 Traceback (most recent call last)",
      "\u001b[0;32m<ipython-input-80-85e26e8cb2d4>\u001b[0m in \u001b[0;36m<module>\u001b[0;34m\u001b[0m\n\u001b[0;32m----> 1\u001b[0;31m \u001b[0mpreprocessing_dir\u001b[0m \u001b[0;34m=\u001b[0m \u001b[0manimal_info\u001b[0m\u001b[0;34m.\u001b[0m\u001b[0mget_preprocessing_dir\u001b[0m\u001b[0;34m(\u001b[0m\u001b[0;34m)\u001b[0m\u001b[0;34m\u001b[0m\u001b[0;34m\u001b[0m\u001b[0m\n\u001b[0m\u001b[1;32m      2\u001b[0m filenames = glob.glob(os.path.join(\n\u001b[1;32m      3\u001b[0m     preprocessing_dir, '**', '*.continuoustime.dat'), recursive=True)\n\u001b[1;32m      4\u001b[0m \u001b[0mprint\u001b[0m\u001b[0;34m(\u001b[0m\u001b[0mfilenames\u001b[0m\u001b[0;34m)\u001b[0m\u001b[0;34m\u001b[0m\u001b[0;34m\u001b[0m\u001b[0m\n",
      "\u001b[0;31mNameError\u001b[0m: name 'animal_info' is not defined"
     ]
    }
   ],
   "source": [
    "preprocessing_dir = animal_info.get_preprocessing_dir()\n",
    "filenames = glob.glob(os.path.join(\n",
    "    preprocessing_dir, '**', '*.continuoustime.dat'), recursive=True)\n",
    "print(filenames)"
   ]
  },
  {
   "cell_type": "code",
   "execution_count": 82,
   "metadata": {},
   "outputs": [
    {
     "data": {
      "text/plain": [
       "\u001b[0;31mSignature:\u001b[0m\n",
       "\u001b[0mextract_trodes_rec_file\u001b[0m\u001b[0;34m(\u001b[0m\u001b[0;34m\u001b[0m\n",
       "\u001b[0;34m\u001b[0m    \u001b[0mdata_dir\u001b[0m\u001b[0;34m,\u001b[0m\u001b[0;34m\u001b[0m\n",
       "\u001b[0;34m\u001b[0m    \u001b[0manimal\u001b[0m\u001b[0;34m,\u001b[0m\u001b[0;34m\u001b[0m\n",
       "\u001b[0;34m\u001b[0m    \u001b[0mlfp_export_args\u001b[0m\u001b[0;34m=\u001b[0m\u001b[0;34m(\u001b[0m\u001b[0;34m'-highpass'\u001b[0m\u001b[0;34m,\u001b[0m \u001b[0;34m'0'\u001b[0m\u001b[0;34m,\u001b[0m \u001b[0;34m'-lowpass'\u001b[0m\u001b[0;34m,\u001b[0m \u001b[0;34m'400'\u001b[0m\u001b[0;34m,\u001b[0m \u001b[0;34m'-interp'\u001b[0m\u001b[0;34m,\u001b[0m \u001b[0;34m'0'\u001b[0m\u001b[0;34m,\u001b[0m \u001b[0;34m'-userefs'\u001b[0m\u001b[0;34m,\u001b[0m \u001b[0;34m'0'\u001b[0m\u001b[0;34m,\u001b[0m \u001b[0;34m'-outputrate'\u001b[0m\u001b[0;34m,\u001b[0m \u001b[0;34m'1500'\u001b[0m\u001b[0;34m)\u001b[0m\u001b[0;34m,\u001b[0m\u001b[0;34m\u001b[0m\n",
       "\u001b[0;34m\u001b[0m    \u001b[0mmda_export_args\u001b[0m\u001b[0;34m=\u001b[0m\u001b[0;34m(\u001b[0m\u001b[0;34m'-usespikefilters'\u001b[0m\u001b[0;34m,\u001b[0m \u001b[0;34m'0'\u001b[0m\u001b[0;34m,\u001b[0m \u001b[0;34m'-interp'\u001b[0m\u001b[0;34m,\u001b[0m \u001b[0;34m'1'\u001b[0m\u001b[0;34m,\u001b[0m \u001b[0;34m'-userefs'\u001b[0m\u001b[0;34m,\u001b[0m \u001b[0;34m'0'\u001b[0m\u001b[0;34m)\u001b[0m\u001b[0;34m,\u001b[0m\u001b[0;34m\u001b[0m\n",
       "\u001b[0;34m\u001b[0m    \u001b[0manalog_export_args\u001b[0m\u001b[0;34m=\u001b[0m\u001b[0;34m(\u001b[0m\u001b[0;34m)\u001b[0m\u001b[0;34m,\u001b[0m\u001b[0;34m\u001b[0m\n",
       "\u001b[0;34m\u001b[0m    \u001b[0mdio_export_args\u001b[0m\u001b[0;34m=\u001b[0m\u001b[0;34m(\u001b[0m\u001b[0;34m)\u001b[0m\u001b[0;34m,\u001b[0m\u001b[0;34m\u001b[0m\n",
       "\u001b[0;34m\u001b[0m    \u001b[0mspikes_export_args\u001b[0m\u001b[0;34m=\u001b[0m\u001b[0;34m(\u001b[0m\u001b[0;34m)\u001b[0m\u001b[0;34m,\u001b[0m\u001b[0;34m\u001b[0m\n",
       "\u001b[0;34m\u001b[0m    \u001b[0mtime_export_args\u001b[0m\u001b[0;34m=\u001b[0m\u001b[0;34m(\u001b[0m\u001b[0;34m)\u001b[0m\u001b[0;34m,\u001b[0m\u001b[0;34m\u001b[0m\n",
       "\u001b[0;34m\u001b[0m    \u001b[0mmake_HDF5\u001b[0m\u001b[0;34m=\u001b[0m\u001b[0;32mFalse\u001b[0m\u001b[0;34m,\u001b[0m\u001b[0;34m\u001b[0m\n",
       "\u001b[0;34m\u001b[0m    \u001b[0mextract_analog\u001b[0m\u001b[0;34m=\u001b[0m\u001b[0;32mTrue\u001b[0m\u001b[0;34m,\u001b[0m\u001b[0;34m\u001b[0m\n",
       "\u001b[0;34m\u001b[0m    \u001b[0mextract_spikes\u001b[0m\u001b[0;34m=\u001b[0m\u001b[0;32mTrue\u001b[0m\u001b[0;34m,\u001b[0m\u001b[0;34m\u001b[0m\n",
       "\u001b[0;34m\u001b[0m    \u001b[0mextract_lfps\u001b[0m\u001b[0;34m=\u001b[0m\u001b[0;32mTrue\u001b[0m\u001b[0;34m,\u001b[0m\u001b[0;34m\u001b[0m\n",
       "\u001b[0;34m\u001b[0m    \u001b[0mextract_dio\u001b[0m\u001b[0;34m=\u001b[0m\u001b[0;32mTrue\u001b[0m\u001b[0;34m,\u001b[0m\u001b[0;34m\u001b[0m\n",
       "\u001b[0;34m\u001b[0m    \u001b[0mextract_time\u001b[0m\u001b[0;34m=\u001b[0m\u001b[0;32mTrue\u001b[0m\u001b[0;34m,\u001b[0m\u001b[0;34m\u001b[0m\n",
       "\u001b[0;34m\u001b[0m    \u001b[0mextract_mda\u001b[0m\u001b[0;34m=\u001b[0m\u001b[0;32mTrue\u001b[0m\u001b[0;34m,\u001b[0m\u001b[0;34m\u001b[0m\n",
       "\u001b[0;34m\u001b[0m    \u001b[0madjust_timestamps_for_mcu_lag\u001b[0m\u001b[0;34m=\u001b[0m\u001b[0;32mTrue\u001b[0m\u001b[0;34m,\u001b[0m\u001b[0;34m\u001b[0m\n",
       "\u001b[0;34m\u001b[0m    \u001b[0mmake_mountain_dir\u001b[0m\u001b[0;34m=\u001b[0m\u001b[0;32mFalse\u001b[0m\u001b[0;34m,\u001b[0m\u001b[0;34m\u001b[0m\n",
       "\u001b[0;34m\u001b[0m    \u001b[0mmake_pos_dir\u001b[0m\u001b[0;34m=\u001b[0m\u001b[0;32mTrue\u001b[0m\u001b[0;34m,\u001b[0m\u001b[0;34m\u001b[0m\n",
       "\u001b[0;34m\u001b[0m    \u001b[0moverwrite\u001b[0m\u001b[0;34m=\u001b[0m\u001b[0;32mFalse\u001b[0m\u001b[0;34m,\u001b[0m\u001b[0;34m\u001b[0m\n",
       "\u001b[0;34m\u001b[0m    \u001b[0mstop_error\u001b[0m\u001b[0;34m=\u001b[0m\u001b[0;32mFalse\u001b[0m\u001b[0;34m,\u001b[0m\u001b[0;34m\u001b[0m\n",
       "\u001b[0;34m\u001b[0m    \u001b[0muse_folder_date\u001b[0m\u001b[0;34m=\u001b[0m\u001b[0;32mFalse\u001b[0m\u001b[0;34m,\u001b[0m\u001b[0;34m\u001b[0m\n",
       "\u001b[0;34m\u001b[0m    \u001b[0mparallel_instances\u001b[0m\u001b[0;34m=\u001b[0m\u001b[0;36m1\u001b[0m\u001b[0;34m,\u001b[0m\u001b[0;34m\u001b[0m\n",
       "\u001b[0;34m\u001b[0m    \u001b[0muse_day_config\u001b[0m\u001b[0;34m=\u001b[0m\u001b[0;32mTrue\u001b[0m\u001b[0;34m,\u001b[0m\u001b[0;34m\u001b[0m\n",
       "\u001b[0;34m\u001b[0m\u001b[0;34m)\u001b[0m\u001b[0;34m\u001b[0m\u001b[0;34m\u001b[0m\u001b[0m\n",
       "\u001b[0;31mDocstring:\u001b[0m\n",
       "Extracting Trodes rec files.\n",
       "\n",
       "Following the Frank Lab directory structure for raw ephys data, will\n",
       "automate extraction of Trode's rec files into its exploded datatype\n",
       "components, and then will convert the files to an hdf5 storage\n",
       "to be used for further preprocessing and analysis.\n",
       "\n",
       "To find any of the extract args (e.g. lfp_export_args) use the shell help\n",
       "i.e. `exportLFP -h` or refer to the trodes code repository documentation.\n",
       "\n",
       "Parameters\n",
       "----------\n",
       "data_dir : str\n",
       "animal : str\n",
       "    Name of animal\n",
       "lfp_export_args : tuple, optional\n",
       "    Parameters for SpikeGadgets `exportLFP` function\n",
       "mda_export_args : tuple, optional\n",
       "    Parameters for SpikeGadgets `exportmda` function\n",
       "analog_export_args : tuple, optional\n",
       "    Parameters for SpikeGadgets `exportanalog` function\n",
       "dio_export_args : tuple, optional\n",
       "    Parameters for SpikeGadgets `exportdio` function\n",
       "spikes_export_args : tuple, optional\n",
       "    Parameters for SpikeGadgets `exportspikes` function\n",
       "time_export_args : tuple, optional\n",
       "    Parameters for SpikeGadgets `exporttime` function\n",
       "parallel_instances : int, optional\n",
       "    Number of parallel jobs to run.\n",
       "make_HDF5 : bool, optional\n",
       "    If true, will make HDF5 files in addition to binaries.\n",
       "extract_analog : bool, optional\n",
       "    If true, extracts the analog data (accelerometer, gyroscope,\n",
       "    magnetometor).\n",
       "extract_spikes : bool, optional\n",
       "extract_lfps : bool, optional\n",
       "extract_dio : bool, optional\n",
       "extract_time : bool, optional\n",
       "extract_mda : bool, optional\n",
       "adjust_timestamps_for_mcu_lag : bool, optional\n",
       "    If True, fixes the correspondence between trodestime\n",
       "    and system (wall) time due to MCU lag\n",
       "make_mountain_dir : bool, optional\n",
       "make_pos_dir : bool, optional\n",
       "overwrite : bool, optional\n",
       "    If true, will overwrite existing files.\n",
       "stop_error : bool, optional\n",
       "    If true, the function will stop on errors. If false it will only\n",
       "    give warnings if something fails.\n",
       "use_folder_date : bool, optional\n",
       "use_day_config : bool, optional\n",
       "    Use external configuration file in date folder\n",
       "    (i.e. `<date>.trodesconf`)\n",
       "\u001b[0;31mFile:\u001b[0m      ~/Documents/Github/rec_to_binaries/rec_to_binaries/core.py\n",
       "\u001b[0;31mType:\u001b[0m      function\n"
      ]
     },
     "metadata": {},
     "output_type": "display_data"
    }
   ],
   "source": [
    "extract_trodes_rec_file?"
   ]
  },
  {
   "cell_type": "code",
   "execution_count": null,
   "metadata": {},
   "outputs": [],
   "source": []
  }
 ],
 "metadata": {
  "kernelspec": {
   "display_name": "Python [conda env:rec_to_binaries] *",
   "language": "python",
   "name": "conda-env-rec_to_binaries-py"
  },
  "language_info": {
   "codemirror_mode": {
    "name": "ipython",
    "version": 3
   },
   "file_extension": ".py",
   "mimetype": "text/x-python",
   "name": "python",
   "nbconvert_exporter": "python",
   "pygments_lexer": "ipython3",
   "version": "3.7.8"
  }
 },
 "nbformat": 4,
 "nbformat_minor": 4
}
